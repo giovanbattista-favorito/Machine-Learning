{
  "nbformat": 4,
  "nbformat_minor": 0,
  "metadata": {
    "colab": {
      "provenance": []
    },
    "kernelspec": {
      "display_name": "Python 3",
      "name": "python3"
    },
    "language_info": {
      "name": "python"
    }
  },
  "cells": [
    {
      "cell_type": "markdown",
      "metadata": {
        "id": "xM8c-0uxqDVB"
      },
      "source": [
        "# Esempio Prova Esonero - Metodi AI e Machine Learning per la fisica "
      ]
    },
    {
      "cell_type": "code",
      "source": [
        " !rm -rf MS_vertex_esonero.npz\n",
        " !wget http://giagu.web.cern.ch/giagu/CERN/MS_vertex_esonero.npz "
      ],
      "metadata": {
        "id": "wlHguDgYZXXe",
        "colab": {
          "base_uri": "https://localhost:8080/"
        },
        "outputId": "281c488b-709e-42d5-c41d-55950f7cf075"
      },
      "execution_count": null,
      "outputs": [
        {
          "output_type": "stream",
          "name": "stdout",
          "text": [
            "--2023-04-02 15:44:49--  http://giagu.web.cern.ch/giagu/CERN/MS_vertex_esonero.npz\n",
            "Resolving giagu.web.cern.ch (giagu.web.cern.ch)... 188.184.21.205, 2001:1458:d00:34::100:59\n",
            "Connecting to giagu.web.cern.ch (giagu.web.cern.ch)|188.184.21.205|:80... connected.\n",
            "HTTP request sent, awaiting response... 200 OK\n",
            "Length: 106576990 (102M)\n",
            "Saving to: ‘MS_vertex_esonero.npz’\n",
            "\n",
            "MS_vertex_esonero.n 100%[===================>] 101.64M  3.48MB/s    in 56s     \n",
            "\n",
            "2023-04-02 15:45:46 (1.83 MB/s) - ‘MS_vertex_esonero.npz’ saved [106576990/106576990]\n",
            "\n"
          ]
        }
      ]
    },
    {
      "cell_type": "markdown",
      "metadata": {
        "id": "TNv4Mq5jrOS5"
      },
      "source": [
        "# Descrizione del compito:\n",
        "\n",
        "### Dataset:\n",
        "\n",
        "il dataset fornito è costituito da un file in formato numpy binario *.npz*: *MS_vertex_esonero.npz*, che contiene due tensory numpy (data e target) con shape:\n",
        "*   data (1000,20,333)\n",
        "*   target (1000,)\n",
        "\n",
        "il tensore data contiene per 1000 esempi un'immagine binaria (valore dei pixel {0,1}) che rappresenta il segnale misurato in un rivelatore di particelle cariche in un esperimento di alta energia. I segnali sono prodotti dalle particelle (10 per ogni evento) che provengono dal decadimento di una particella madre che decade a distanze diverse dal rivelatore. Il target rappresenta la distanza di decadimento $d_0$ (in metri) della particella madre dal vertice di interazione posto nell'origine del sistema di coordinate dell'esperimento (il rivelatore si trova a 5m di distanza dall'origine, la distanza $d_0$ può assumere valori continui tra 0m (decadimento nel vertice di interazione alla massima distanza dal rivelatore) e 4.9m (decadimento molto vicino al vertice di interazione).\n",
        "\n",
        "E' possibile leggere i tensori usando il seguente esempio di codice:\n",
        "\n",
        "```\n",
        "inp_file = np.load('MS_vertex_esonero.npz')\n",
        "data = inp_file['data']\n",
        "target = inp_file['target']\n",
        "\n",
        "print(data.shape)\n",
        "print(target.shape)\n",
        "```\n",
        "\n",
        "\n",
        "**È richiesto:**\n",
        "  \n",
        "1.   di associare una opportuna label agli eventi del campione che li divida in eventi \"prompt\" e eventi \"displaced\", basandosi sul valore del target:\n",
        "> prompt: $d_0 <= 1.5$ m <p>\n",
        "> displaced: $d_0 > 1.5$ m <p>\n",
        "2.   di allenare un modello di regressione basato su una architettura RandomForest che predica il valore della distanza di decadimento $\\hat{d}_0$ a partire da una delle immagini del campione\n",
        "3.   valutarne le prestazioni in termini di metriche standard per task di regressione, che calcolando la risoluzione media su $d_0$ ($<d_0-\\hat{d}_0>$) per le due classi di eventi prompt e displaced. \n",
        "4.  allenare un modello di classificazione basato su un classificatore a k-primi vicini che assegni un particolare evento ad una tra le due possibili categorie prompt o displaced, valutandone opportunamente le prestazioni\n",
        "\n",
        "Commentare in modo sintetico le scelte e operazioni eseguite nello svolgimento dei vari punti del compito."
      ]
    },
    {
      "cell_type": "code",
      "metadata": {
        "id": "-04NQU3L2kId",
        "colab": {
          "base_uri": "https://localhost:8080/"
        },
        "outputId": "006338a4-976a-4c1b-ac4b-500003e71a6a"
      },
      "source": [
        "# codice ...\n",
        "#Importo file e costruisco array\n",
        "import numpy as np\n",
        "inp_file = np.load('MS_vertex_esonero.npz')\n",
        "data = inp_file['data']\n",
        "target = inp_file['target']\n",
        "\n",
        "print(\"Shape data : {}\".format(data.shape))\n",
        "print(\"Shape target: {}\".format(target.shape))"
      ],
      "execution_count": null,
      "outputs": [
        {
          "output_type": "stream",
          "name": "stdout",
          "text": [
            "Shape data : (1000, 20, 333)\n",
            "Shape target: (1000,)\n"
          ]
        }
      ]
    },
    {
      "cell_type": "code",
      "source": [
        "type(target)"
      ],
      "metadata": {
        "colab": {
          "base_uri": "https://localhost:8080/"
        },
        "id": "_GUEDoAmp4LG",
        "outputId": "91dd0e37-2d5b-4b9a-afb9-855b0d8e5649"
      },
      "execution_count": null,
      "outputs": [
        {
          "output_type": "execute_result",
          "data": {
            "text/plain": [
              "numpy.ndarray"
            ]
          },
          "metadata": {},
          "execution_count": 11
        }
      ]
    },
    {
      "cell_type": "code",
      "source": [
        "#PUNTO 1\n",
        "#Costruisco array di label a partire da quello di target\n",
        "prompt = target <= 1.5\n",
        "displaced = target > 1.5\n",
        "\n",
        "label = np.zeros(len(target))\n",
        "label[prompt] = 0\n",
        "label[displaced] = 1\n",
        "\n",
        "print(\"shape e lunghezza del nuovo array di label: {} \\t {}\".format(label.shape, len(label)))"
      ],
      "metadata": {
        "colab": {
          "base_uri": "https://localhost:8080/"
        },
        "id": "l4FH8U0Bpcuv",
        "outputId": "41b2afe7-38ec-4c0a-c5b0-18dc8ff4bd74"
      },
      "execution_count": null,
      "outputs": [
        {
          "output_type": "stream",
          "name": "stdout",
          "text": [
            "shape e lunghezza del nuovo array di label: (1000,) \t 1000\n"
          ]
        }
      ]
    },
    {
      "cell_type": "code",
      "source": [
        "#PUNTO 2\n",
        "#Random Forest Classifier model\n",
        "from sklearn.ensemble import RandomForestClassifier\n",
        "from sklearn.model_selection import train_test_split\n",
        "\n",
        "#Devo reshapare l'array data in modo che sia al massimo bidimensionale (avrò 1000 eventi ciascuno composto da 20*333 features)\n",
        "data = np.reshape(data, (1000, 20*333))\n",
        "\n",
        "#splitto il campione in training and testing\n",
        "x_train, x_test, y_train, y_test = train_test_split(data, label, test_size = 0.4, train_size = 0.6)\n",
        "#Splitto test set in validation and test sets\n",
        "x_vali, x_test, y_vali, y_test = train_test_split(x_test, y_test, test_size = 0.5, train_size = 0.5)\n",
        "\n",
        "#Array di valori per n_estimators: 10 valori nell'intervallo [1, 100]\n",
        "est = np.linspace(1, 100, 10, dtype = int)\n",
        "\n",
        "#Array di valori per min samples split\n",
        "samples = np.array([2, 1000])\n",
        "\n",
        "#Array di accuracy sul training set e validation set\n",
        "train_score = np.zeros(2 * 10)\n",
        "train_score = np.reshape(train_score, (2, 10))\n",
        "vali_score = np.zeros(2 * 10)\n",
        "vali_score = np.reshape(vali_score, (2, 10))\n",
        "\n",
        "#Valori ottimali dei parametri (inizializzo)\n",
        "best_score = 0.\n",
        "best_est = 0.\n",
        "best_sample = 0.\n",
        "\n",
        "#Algoritmo di regressione\n",
        "print(\"Est. \\t\\t Min sam. \\t\\t Acc train \\t\\t Acc vali\")\n",
        "#Ciclo su min samples split\n",
        "for i in range(len(samples)):\n",
        "\n",
        "  #Ciclo su estimators\n",
        "  for j in range(len(est)):\n",
        "    #Modello di regressione\n",
        "    clf = RandomForestClassifier(n_estimators = est[j], min_samples_split = samples[i])\n",
        "    #Fitto su training set\n",
        "    clf.fit(x_train, y_train)\n",
        "    #Accuracy su training set e validation set (la uso per valutare quali siano i parametri migliori per la regressione)\n",
        "    train_score[i][j] = clf.score(x_train, y_train)\n",
        "    vali_score[i][j] = clf.score(x_vali, y_vali)\n",
        "    #printo valori dell'accuracy ad ogni passo\n",
        "    print(\"{} \\t\\t {} \\t\\t {} \\t\\t {}\".format(samples[i], est[j], train_score[i][j], vali_score[i][j]))\n",
        "\n",
        "    #Aggiorno valori ottimali dei parametri\n",
        "    if(vali_score[i][j] >= best_score):\n",
        "      best_score = vali_score[i][j]\n",
        "      best_est = est[j]\n",
        "      best_sample = samples[i]\n",
        "\n",
        "#Stampo valori ottimali per il fit\n",
        "print()\n",
        "print(\"VALORI OTTIMALI\")\n",
        "print(\"Best accuracy on training set value: {} \\t best estimator: {} \\t best min sample split: {}\".format(best_score, best_est, best_sample))"
      ],
      "metadata": {
        "colab": {
          "base_uri": "https://localhost:8080/"
        },
        "id": "roECI8-j8xFW",
        "outputId": "b8001bf6-0d4b-40a7-c32d-6cfe4cbf69cd"
      },
      "execution_count": null,
      "outputs": [
        {
          "output_type": "stream",
          "name": "stdout",
          "text": [
            "Est. \t\t Min sam. \t\t Acc train \t\t Acc vali\n",
            "2 \t\t 1 \t\t 0.85 \t\t 0.56\n",
            "2 \t\t 12 \t\t 0.995 \t\t 0.715\n",
            "2 \t\t 23 \t\t 1.0 \t\t 0.7\n",
            "2 \t\t 34 \t\t 1.0 \t\t 0.785\n",
            "2 \t\t 45 \t\t 1.0 \t\t 0.78\n",
            "2 \t\t 56 \t\t 1.0 \t\t 0.74\n",
            "2 \t\t 67 \t\t 1.0 \t\t 0.75\n",
            "2 \t\t 78 \t\t 1.0 \t\t 0.775\n",
            "2 \t\t 89 \t\t 1.0 \t\t 0.725\n",
            "2 \t\t 100 \t\t 1.0 \t\t 0.715\n",
            "1000 \t\t 1 \t\t 0.6783333333333333 \t\t 0.675\n",
            "1000 \t\t 12 \t\t 0.6783333333333333 \t\t 0.675\n",
            "1000 \t\t 23 \t\t 0.6783333333333333 \t\t 0.675\n",
            "1000 \t\t 34 \t\t 0.6783333333333333 \t\t 0.675\n",
            "1000 \t\t 45 \t\t 0.6783333333333333 \t\t 0.675\n",
            "1000 \t\t 56 \t\t 0.6783333333333333 \t\t 0.675\n",
            "1000 \t\t 67 \t\t 0.6783333333333333 \t\t 0.675\n",
            "1000 \t\t 78 \t\t 0.6783333333333333 \t\t 0.675\n",
            "1000 \t\t 89 \t\t 0.6783333333333333 \t\t 0.675\n",
            "1000 \t\t 100 \t\t 0.6783333333333333 \t\t 0.675\n",
            "\n",
            "VALORI OTTIMALI\n",
            "Best accuracy on training set value: 0.785 \t best estimator: 34 \t best min sample split: 2\n"
          ]
        }
      ]
    },
    {
      "cell_type": "markdown",
      "source": [
        "Uso i parametri di best regressione per stimare accuracy su test set."
      ],
      "metadata": {
        "id": "YjuxTLe0EX_P"
      }
    },
    {
      "cell_type": "code",
      "source": [
        "test_score = clf.score(x_test, y_test)\n",
        "print(\"Accuracy sul test set : {}\".format(test_score))\n",
        "\n",
        "#Risoluzione media\n",
        "prediction = clf.predict(x_test)\n",
        "\n",
        "print(\"Risoluzione media (R^2): {}\".format(np.mean((y_test - prediction)**2)))"
      ],
      "metadata": {
        "colab": {
          "base_uri": "https://localhost:8080/"
        },
        "id": "Taoe0j3WEMGP",
        "outputId": "0493bb4a-4c54-421c-b9f5-78403d86837f"
      },
      "execution_count": null,
      "outputs": [
        {
          "output_type": "stream",
          "name": "stdout",
          "text": [
            "Accuracy sul test set : 0.66\n",
            "Risoluzione media (R^2): 0.34\n"
          ]
        }
      ]
    },
    {
      "cell_type": "code",
      "source": [
        "#PUNTO 4\n",
        "from sklearn import neighbors, datasets\n",
        "\n",
        "#Ridefinisco 80-20 training e test set\n",
        "x_train, x_test, y_train, y_test = train_test_split(data, label, test_size = 0.2, train_size = 0.8)\n",
        "\n",
        "#Liste per train e test values\n",
        "train_score = []\n",
        "test_score = []\n",
        "#Best parameters\n",
        "best_acc = 0.\n",
        "best_k = 0\n",
        "\n",
        "n_neighbors = np.arange(1, 30, 3) #questo è il k\n",
        "print(\"k \\t accuracy train \\t accuracy test\")\n",
        "for i in range(len(n_neighbors)):\n",
        "  clf = neighbors.KNeighborsClassifier(n_neighbors[i])\n",
        "  clf.fit(x_train, y_train)\n",
        "  train_score.append(clf.score(x_train, y_train))\n",
        "  test_score.append(clf.score(x_test, y_test))\n",
        "  print(\"{} \\t\\t {} \\t\\t {}\".format(n_neighbors[i], train_score[i], test_score[i]))\n",
        "\n",
        "  #Aggiorno best parameters (stavolta su test set direttamente)\n",
        "  if (test_score[i] >= best_score):\n",
        "    best_score = test_score[i]\n",
        "    best_k = n_neighbors[i]\n",
        "\n",
        "print()\n",
        "print(\"Best accuracy on test set: {} \\t Ottenuto con k: {}\".format(best_score, best_k))\n",
        "\n",
        "score_train = np.array(train_score)\n",
        "score_test = np.array(test_score)\n",
        "\n",
        "#Plot accuracy vs k for training set and test set\n",
        "import matplotlib.pyplot as plt\n",
        "plt.figure()\n",
        "plt.title(\"ACCURACY vs K\")\n",
        "plt.xlabel(\"k\")\n",
        "plt.ylabel(\"Accuracy\")\n",
        "\n",
        "plt.plot(n_neighbors, score_train, '.', label = 'Training set', color = 'r')\n",
        "plt.plot(n_neighbors, score_test, '.', label = 'Test set', color = 'blue')\n",
        "plt.legend()"
      ],
      "metadata": {
        "colab": {
          "base_uri": "https://localhost:8080/",
          "height": 724
        },
        "id": "_OM8sfqCEgid",
        "outputId": "4a9e64ce-6785-4402-fdb5-a442726dcb6e"
      },
      "execution_count": null,
      "outputs": [
        {
          "output_type": "stream",
          "name": "stdout",
          "text": [
            "k \t accuracy train \t accuracy test\n",
            "1 \t\t 1.0 \t\t 0.74\n",
            "4 \t\t 0.84375 \t\t 0.715\n",
            "7 \t\t 0.7575 \t\t 0.7\n",
            "10 \t\t 0.7475 \t\t 0.73\n",
            "13 \t\t 0.725 \t\t 0.695\n",
            "16 \t\t 0.73 \t\t 0.715\n",
            "19 \t\t 0.7125 \t\t 0.7\n",
            "22 \t\t 0.7175 \t\t 0.7\n",
            "25 \t\t 0.70125 \t\t 0.695\n",
            "28 \t\t 0.715 \t\t 0.705\n",
            "\n",
            "Best accuracy on test set: 0.785 \t Ottenuto con k: 0\n"
          ]
        },
        {
          "output_type": "execute_result",
          "data": {
            "text/plain": [
              "<matplotlib.legend.Legend at 0x7fb96eb173d0>"
            ]
          },
          "metadata": {},
          "execution_count": 28
        },
        {
          "output_type": "display_data",
          "data": {
            "text/plain": [
              "<Figure size 640x480 with 1 Axes>"
            ],
            "image/png": "[encoded data removed]"
          },
          "metadata": {}
        }
      ]
    },
    {
      "cell_type": "markdown",
      "source": [],
      "metadata": {
        "id": "x6_eXd-1_oY2"
      }
    }
  ]
}