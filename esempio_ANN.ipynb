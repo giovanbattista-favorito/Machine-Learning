{
  "nbformat": 4,
  "nbformat_minor": 0,
  "metadata": {
    "colab": {
      "provenance": [],
      "gpuType": "T4"
    },
    "kernelspec": {
      "name": "python3",
      "display_name": "Python 3"
    },
    "language_info": {
      "name": "python"
    },
    "gpuClass": "standard",
    "accelerator": "GPU"
  },
  "cells": [
    {
      "cell_type": "code",
      "execution_count": null,
      "metadata": {
        "id": "p3DvgzWX4bpY"
      },
      "outputs": [],
      "source": [
        "import torch\n",
        "import numpy as np"
      ]
    },
    {
      "cell_type": "code",
      "source": [
        "#Conversione array numpy in torch tensor\n",
        "ndarray = np.array([0, 1, 2.3])\n",
        "t = torch.from_numpy(ndarray)\n",
        "print(t)"
      ],
      "metadata": {
        "colab": {
          "base_uri": "https://localhost:8080/"
        },
        "id": "9jDyDlfU5Cox",
        "outputId": "02d88e85-b3f2-4a54-8a9d-713425b8e2f9"
      },
      "execution_count": null,
      "outputs": [
        {
          "output_type": "stream",
          "name": "stdout",
          "text": [
            "tensor([0.0000, 1.0000, 2.3000], dtype=torch.float64)\n"
          ]
        }
      ]
    },
    {
      "cell_type": "markdown",
      "source": [
        "A tensor on PyTorch has 3 attributes:\n",
        "- shape\n",
        "- data type\n",
        "- device"
      ],
      "metadata": {
        "id": "KhfLMJ735oam"
      }
    },
    {
      "cell_type": "code",
      "source": [
        "print(\"Shape of torch tensor: {}\".format(t.shape))\n",
        "print(\"Type of torch tensor: {}\".format(t.dtype))\n",
        "print(\"Device of torch tensor: {}\".format(t.device))"
      ],
      "metadata": {
        "colab": {
          "base_uri": "https://localhost:8080/"
        },
        "id": "T7n8uwfG5dpD",
        "outputId": "7ca1c79d-0729-41fc-a417-f7ec84ada2aa"
      },
      "execution_count": null,
      "outputs": [
        {
          "output_type": "stream",
          "name": "stdout",
          "text": [
            "Shape of torch tensor: torch.Size([3])\n",
            "Type of torch tensor: torch.float64\n",
            "Device of torch tensor: cpu\n"
          ]
        }
      ]
    },
    {
      "cell_type": "markdown",
      "source": [
        "### Implementation of a basic pytorch MLP architecture to illustrate a tipical DL pipeline implemented in pytorch."
      ],
      "metadata": {
        "id": "fLLPyIQJ63N1"
      }
    },
    {
      "cell_type": "code",
      "source": [
        "import matplotlib.pyplot as plt\n",
        "from scipy.stats import norm\n",
        "import torchvision\n",
        "\n",
        "print(torch.__version__)\n",
        "print(torchvision.__version__)"
      ],
      "metadata": {
        "colab": {
          "base_uri": "https://localhost:8080/"
        },
        "id": "e2lBnlvE58ig",
        "outputId": "fcf0eac8-5d90-45f0-8059-9a76c620de7f"
      },
      "execution_count": null,
      "outputs": [
        {
          "output_type": "stream",
          "name": "stdout",
          "text": [
            "2.0.0+cu118\n",
            "0.15.1+cu118\n"
          ]
        }
      ]
    },
    {
      "cell_type": "code",
      "source": [
        "#In torch, data and models myst be moved in the specific processing unit\n",
        "#This code snippet allows to set the variable \"device\" according to available resource (cpu or cuda gpu)\n",
        "if torch.cuda.is_available():\n",
        "  print(\"number of devices: \", torch.cuda.device_count())\n",
        "  print(torch.cuda.get_device_name(0))\n",
        "\n",
        "#In queste due righe di codice setto la variabile device su cuda se è available (altrimenti cpu)\n",
        "device = ('cuda' if torch.cuda.is_available() else 'cpu')\n",
        "print(f\"Computation device: {device}\\n\")"
      ],
      "metadata": {
        "colab": {
          "base_uri": "https://localhost:8080/"
        },
        "id": "10scQWM17QyE",
        "outputId": "0afcfc93-b161-4a86-a8f5-1aeead1c8c81"
      },
      "execution_count": null,
      "outputs": [
        {
          "output_type": "stream",
          "name": "stdout",
          "text": [
            "number of devices:  1\n",
            "Tesla T4\n",
            "Computation device: cuda\n",
            "\n"
          ]
        }
      ]
    },
    {
      "cell_type": "code",
      "source": [
        "#Dataset: in this simple toy example, we'll produce a toy dataset generated using numpy\n",
        "#Task: 2 class classification problem, with 8 uncorrelated features, gaussian distributed with different\n",
        "#means and variance among features and classes\n",
        "\n",
        "features_S = np.random.normal(loc=[-4., -3., -2., -1., 1., 2., 3., 4.], scale = np.random.uniform(0.2, 0.7, size = (8)), size = (2000, 8)) #2000 eventi ciascuno con 8 features\n",
        "features_B = np.random.normal(loc=[-4.5, -3.5, -2.5, -1.5, 1.5, 2.5, 3.5, 4.5], scale = np.random.uniform(0.2, 0.7, size = (8)), size = (2000, 8)) #2000 eventi ciascuno con 8 features\n",
        "\n",
        "labels_S = np.zeros(shape = (2000)) #label 0 for class S \n",
        "labels_B = np.ones(shape = (2000)) #label 1 for class B\n",
        "\n",
        "#Concatenate S and B in one dataset:\n",
        "X = np.concatenate((features_S, features_B), axis = 0)\n",
        "Y = np.concatenate((labels_S, labels_B), axis = 0)\n",
        "\n",
        "#Divide the dataset in train and test\n",
        "from sklearn.model_selection import train_test_split\n",
        "\n",
        "X_train, X_test, Y_train, Y_test = train_test_split(X, Y, test_size = 0.2, shuffle = True, random_state = 12345)\n",
        "X_train, X_vali, Y_train, Y_vali = train_test_split(X_train, Y_train, test_size = 0.2, shuffle = True, random_state = 456789)\n",
        "print(f\"Shape X_train: {X_train.shape}\")\n",
        "print(f\"Shape Y_train: {Y_train.shape}\")\n",
        "print(f\"Shape X_vali: {X_vali.shape}\")\n",
        "print(f\"Shape Y_vali: {Y_vali.shape}\")\n",
        "print(f\"Shape X_test: {X_test.shape}\")\n",
        "print(f\"Shape Y_test: {Y_test.shape}\")\n"
      ],
      "metadata": {
        "colab": {
          "base_uri": "https://localhost:8080/"
        },
        "id": "0lKikLeK8NY1",
        "outputId": "92e417ea-e7aa-4ab1-8753-cae9f4599d0d"
      },
      "execution_count": null,
      "outputs": [
        {
          "output_type": "stream",
          "name": "stdout",
          "text": [
            "Shape X_train: (2560, 8)\n",
            "Shape Y_train: (2560,)\n",
            "Shape X_vali: (640, 8)\n",
            "Shape Y_vali: (640,)\n",
            "Shape X_test: (800, 8)\n",
            "Shape Y_test: (800,)\n"
          ]
        }
      ]
    },
    {
      "cell_type": "code",
      "source": [
        "#Plot variables\n",
        "sel_S = tuple([Y_train < 0.5])\n",
        "sel_B = tuple([Y_train > 0.5])\n",
        "\n",
        "for idx in range(8):\n",
        "  plt.subplot(2, 4, idx+1)\n",
        "  plt.hist((X_train[sel_S])[:, idx], bins = 50, range = [-6., 6.], alpha = 0.5, log = True, density = True)\n",
        "  plt.hist((X_train[sel_B])[:, idx], bins = 50, range = [-6., 6.], alpha = 0.5, log = True, density = True)\n",
        "plt.tight_layout()"
      ],
      "metadata": {
        "colab": {
          "base_uri": "https://localhost:8080/",
          "height": 508
        },
        "id": "-5161fSAAKsu",
        "outputId": "1f1a7f7f-b601-4f30-e39e-89a25837c145"
      },
      "execution_count": null,
      "outputs": [
        {
          "output_type": "display_data",
          "data": {
            "text/plain": [
              "<Figure size 640x480 with 8 Axes>"
            ],
            "image/png": "[encoded data removed]"
          },
          "metadata": {}
        }
      ]
    },
    {
      "cell_type": "code",
      "source": [
        "#Transform the numpy arrays to torch tensors (pytorch works with torch tensors)\n",
        "#In deep learning, tensors are a fundamental data structure that is very similar to arrays and matrices,\n",
        "#with which we can efficiently perform mathematical operations on large sets of data. A tensor can be represented\n",
        "#as a matrix, but also a vector, a scalar, or a higher-dimensional array.\n",
        "#A torch tensor is a structur very similar to a numpy ndarray, with the difference that they are capable of runnung on a\n",
        "#GPU, which dramatically speeds up the computational process\n",
        "\n",
        "#Trasformo np.ndarray in torch tensors:\n",
        "X_train_pt = torch.Tensor(X_train).float()\n",
        "Y_train_pt = torch.Tensor(Y_train).int()\n",
        "X_vali_pt = torch.Tensor(X_vali).float()\n",
        "Y_vali_pt = torch.Tensor(Y_vali).int()\n",
        "X_test_pt = torch.Tensor(X_test).float()\n",
        "Y_test_pt = torch.Tensor(Y_test).int()\n",
        "\n",
        "print(f\"Shape X_train_pt: {X_train_pt.shape}\")\n",
        "print(f\"Shape Y_train_pt: {Y_train_pt.shape}\")\n",
        "print(f\"Shape X_vali_pt: {X_vali_pt.shape}\")\n",
        "print(f\"Shape Y_vali_pt: {Y_vali_pt.shape}\")\n",
        "print(f\"Shape X_test_pt: {X_test_pt.shape}\")\n",
        "print(f\"Shape Y_test_pt: {Y_test_pt.shape}\")\n"
      ],
      "metadata": {
        "colab": {
          "base_uri": "https://localhost:8080/"
        },
        "id": "lodPlqKvRMBW",
        "outputId": "159505d6-f64d-4055-b6f1-85928de8bd3c"
      },
      "execution_count": null,
      "outputs": [
        {
          "output_type": "stream",
          "name": "stdout",
          "text": [
            "Shape X_train_pt: torch.Size([2560, 8])\n",
            "Shape Y_train_pt: torch.Size([2560])\n",
            "Shape X_vali_pt: torch.Size([640, 8])\n",
            "Shape Y_vali_pt: torch.Size([640])\n",
            "Shape X_test_pt: torch.Size([800, 8])\n",
            "Shape Y_test_pt: torch.Size([800])\n"
          ]
        }
      ]
    },
    {
      "cell_type": "code",
      "source": [
        "#Now we can create a torch dataset and a pytorch dataloader\n",
        "\n",
        "from torch.utils.data import TensorDataset, DataLoader\n",
        "\n",
        "dataset_train = TensorDataset(X_train_pt, Y_train_pt) #a dataset is a pair of feature tensor & target tensor\n",
        "dataloader_train = DataLoader(dataset_train, batch_size = 32, shuffle = True) #Dataset will be shuffled and batched in mini batch of 32 events each\n",
        "\n",
        "dataset_vali = TensorDataset(X_vali_pt, Y_vali_pt)\n",
        "dataloader_vali = DataLoader(dataset_vali, batch_size = 32, shuffle = True)"
      ],
      "metadata": {
        "id": "H3sEsMiXSNtw"
      },
      "execution_count": null,
      "outputs": []
    },
    {
      "cell_type": "code",
      "source": [
        "#Example of iteration through dataloader\n",
        "train_features, train_labels = next(iter(dataloader_train))\n",
        "\n",
        "print(f\"Feature batch shape: {train_features.size()}\")\n",
        "print(f\"Labels batch shape: {train_labels.size()}\")\n",
        "\n",
        "an_event = train_features[9].squeeze()\n",
        "a_label = train_labels[9]\n",
        "\n",
        "print(f\"Feature: {an_event}\")\n",
        "print(f\"Label: {a_label}\")"
      ],
      "metadata": {
        "colab": {
          "base_uri": "https://localhost:8080/"
        },
        "id": "aVcOujMdTh2m",
        "outputId": "e6867f16-e040-47c4-f1cc-822b9fb862da"
      },
      "execution_count": null,
      "outputs": [
        {
          "output_type": "stream",
          "name": "stdout",
          "text": [
            "Feature batch shape: torch.Size([32, 8])\n",
            "Labels batch shape: torch.Size([32])\n",
            "Feature: tensor([-2.2434, -3.6620, -2.4237, -0.8411,  0.9554,  2.3132,  2.4916,  3.7402])\n",
            "Label: 0\n"
          ]
        }
      ]
    },
    {
      "cell_type": "code",
      "source": [
        "#note: move torch tensors between cpu and gpu\n",
        "print(\"device: \", device)\n",
        "print(\"X_train_pt is in GPU: \", X_train_pt.is_cuda)\n",
        "X_train_pt = X_train_pt.to(device)\n",
        "print(\"X_train_pt is in GPU: \", X_train_pt.is_cuda)\n",
        "X_train_pt = X_train_pt.to('cpu')\n",
        "print(\"X_train_pt is in GPU: \", X_train_pt.is_cuda)"
      ],
      "metadata": {
        "colab": {
          "base_uri": "https://localhost:8080/"
        },
        "id": "48oTZi5-UzYZ",
        "outputId": "bda03f96-be8e-48bb-c92d-d246764494cf"
      },
      "execution_count": null,
      "outputs": [
        {
          "output_type": "stream",
          "name": "stdout",
          "text": [
            "device:  cuda\n",
            "X_train_pt is in GPU:  False\n",
            "X_train_pt is in GPU:  True\n",
            "X_train_pt is in GPU:  False\n"
          ]
        }
      ]
    },
    {
      "cell_type": "code",
      "source": [
        "#A pytorch nn model: it is just a python class inheriting from nn.Module\n",
        "#that defines the layers and activations used in the DNN model and a forward(x) method that\n",
        "#defines how the model act on an input example x\n",
        "\n",
        "from torch import nn\n",
        "import torch.nn.functional as F\n",
        "\n",
        "#shallow ANN with dense layer with 20 neurons\n",
        "class ShallowANN(nn.Module):\n",
        "  def __init__(self, input_dim):\n",
        "    super(ShallowANN, self).__init__()\n",
        "\n",
        "    self.layer1 = nn.Linear(input_dim, 20)\n",
        "    self.activ1 = nn.ReLU()\n",
        "    self.layer2 = nn.Linear(20, 1)\n",
        "    self.activ2 = nn.Sigmoid()\n",
        "\n",
        "  def forward(self, x):\n",
        "    out = self.layer1(x)\n",
        "    out = self.activ1(out)\n",
        "    out = self.layer2(out)\n",
        "    out = self.activ2(out)\n",
        "    return out"
      ],
      "metadata": {
        "id": "6Q_uqXt4WStc"
      },
      "execution_count": null,
      "outputs": []
    },
    {
      "cell_type": "code",
      "source": [
        "%pip install torchsummary"
      ],
      "metadata": {
        "colab": {
          "base_uri": "https://localhost:8080/"
        },
        "id": "GDk7kx5Fbfmn",
        "outputId": "e45b4337-e8ab-4042-abea-dece0a40bd6f"
      },
      "execution_count": null,
      "outputs": [
        {
          "output_type": "stream",
          "name": "stdout",
          "text": [
            "Looking in indexes: https://pypi.org/simple, https://us-python.pkg.dev/colab-wheels/public/simple/\n",
            "Requirement already satisfied: torchsummary in /usr/local/lib/python3.10/dist-packages (1.5.1)\n"
          ]
        }
      ]
    },
    {
      "cell_type": "code",
      "source": [
        "#print the model architecture\n",
        "#simple printing\n",
        "model = ShallowANN(input_dim = 8)\n",
        "print(model)"
      ],
      "metadata": {
        "colab": {
          "base_uri": "https://localhost:8080/"
        },
        "id": "tod6qxp5cEp9",
        "outputId": "f5606cb4-ae4c-4439-82e2-c33c98b5fb97"
      },
      "execution_count": null,
      "outputs": [
        {
          "output_type": "stream",
          "name": "stdout",
          "text": [
            "ShallowANN(\n",
            "  (layer1): Linear(in_features=8, out_features=20, bias=True)\n",
            "  (activ1): ReLU()\n",
            "  (layer2): Linear(in_features=20, out_features=1, bias=True)\n",
            "  (activ2): Sigmoid()\n",
            ")\n"
          ]
        }
      ]
    },
    {
      "cell_type": "code",
      "source": [
        "#torchsummary (keras-like) printing\n",
        "from torchsummary import summary\n",
        "if torch.cuda.is_available():\n",
        "  summary(model.cuda(), input_size = (1, 8))\n",
        "else:\n",
        "  summary(model, input_size = (1, 8))"
      ],
      "metadata": {
        "colab": {
          "base_uri": "https://localhost:8080/"
        },
        "id": "YheNb7Awca3t",
        "outputId": "97b4ced0-c058-4d46-c772-3f06e770a2e0"
      },
      "execution_count": null,
      "outputs": [
        {
          "output_type": "stream",
          "name": "stdout",
          "text": [
            "----------------------------------------------------------------\n",
            "        Layer (type)               Output Shape         Param #\n",
            "================================================================\n",
            "            Linear-1                [-1, 1, 20]             180\n",
            "              ReLU-2                [-1, 1, 20]               0\n",
            "            Linear-3                 [-1, 1, 1]              21\n",
            "           Sigmoid-4                 [-1, 1, 1]               0\n",
            "================================================================\n",
            "Total params: 201\n",
            "Trainable params: 201\n",
            "Non-trainable params: 0\n",
            "----------------------------------------------------------------\n",
            "Input size (MB): 0.00\n",
            "Forward/backward pass size (MB): 0.00\n",
            "Params size (MB): 0.00\n",
            "Estimated Total Size (MB): 0.00\n",
            "----------------------------------------------------------------\n"
          ]
        }
      ]
    },
    {
      "cell_type": "code",
      "source": [
        "#REINSTANTIATE A NEW MODEL (RESET WEIGHT) and PUT IT ON GPU\n",
        "model = ShallowANN(input_dim = 8)\n",
        "model.to(device)\n",
        "\n",
        "print('Model is on GPU: ', next(model.parameters()).is_cuda)"
      ],
      "metadata": {
        "colab": {
          "base_uri": "https://localhost:8080/"
        },
        "id": "pqzFH-pXcwzS",
        "outputId": "feaa3e62-6b72-442d-9aed-6a93dbe2fae1"
      },
      "execution_count": null,
      "outputs": [
        {
          "output_type": "stream",
          "name": "stdout",
          "text": [
            "Model is on GPU:  True\n"
          ]
        }
      ]
    },
    {
      "cell_type": "code",
      "source": [
        "#Install torchmetrics: collection of useful Pytorch metrics implementations and an easy-to -use API\n",
        "#to create custom metrics\n",
        "%pip install torchmetrics\n"
      ],
      "metadata": {
        "colab": {
          "base_uri": "https://localhost:8080/"
        },
        "id": "zhONlHCTdDy6",
        "outputId": "d5eeeb43-b6ce-434f-da93-fc7968110e38"
      },
      "execution_count": null,
      "outputs": [
        {
          "output_type": "stream",
          "name": "stdout",
          "text": [
            "Looking in indexes: https://pypi.org/simple, https://us-python.pkg.dev/colab-wheels/public/simple/\n",
            "Collecting torchmetrics\n",
            "  Downloading torchmetrics-0.11.4-py3-none-any.whl (519 kB)\n",
            "\u001b[2K     \u001b[90m━━━━━━━━━━━━━━━━━━━━━━━━━━━━━━━━━━━━━━\u001b[0m \u001b[32m519.2/519.2 kB\u001b[0m \u001b[31m13.8 MB/s\u001b[0m eta \u001b[36m0:00:00\u001b[0m\n",
            "\u001b[?25hRequirement already satisfied: torch>=1.8.1 in /usr/local/lib/python3.10/dist-packages (from torchmetrics) (2.0.0+cu118)\n",
            "Requirement already satisfied: numpy>=1.17.2 in /usr/local/lib/python3.10/dist-packages (from torchmetrics) (1.22.4)\n",
            "Requirement already satisfied: packaging in /usr/local/lib/python3.10/dist-packages (from torchmetrics) (23.1)\n",
            "Requirement already satisfied: sympy in /usr/local/lib/python3.10/dist-packages (from torch>=1.8.1->torchmetrics) (1.11.1)\n",
            "Requirement already satisfied: typing-extensions in /usr/local/lib/python3.10/dist-packages (from torch>=1.8.1->torchmetrics) (4.5.0)\n",
            "Requirement already satisfied: filelock in /usr/local/lib/python3.10/dist-packages (from torch>=1.8.1->torchmetrics) (3.12.0)\n",
            "Requirement already satisfied: jinja2 in /usr/local/lib/python3.10/dist-packages (from torch>=1.8.1->torchmetrics) (3.1.2)\n",
            "Requirement already satisfied: triton==2.0.0 in /usr/local/lib/python3.10/dist-packages (from torch>=1.8.1->torchmetrics) (2.0.0)\n",
            "Requirement already satisfied: networkx in /usr/local/lib/python3.10/dist-packages (from torch>=1.8.1->torchmetrics) (3.1)\n",
            "Requirement already satisfied: cmake in /usr/local/lib/python3.10/dist-packages (from triton==2.0.0->torch>=1.8.1->torchmetrics) (3.25.2)\n",
            "Requirement already satisfied: lit in /usr/local/lib/python3.10/dist-packages (from triton==2.0.0->torch>=1.8.1->torchmetrics) (16.0.2)\n",
            "Requirement already satisfied: MarkupSafe>=2.0 in /usr/local/lib/python3.10/dist-packages (from jinja2->torch>=1.8.1->torchmetrics) (2.1.2)\n",
            "Requirement already satisfied: mpmath>=0.19 in /usr/local/lib/python3.10/dist-packages (from sympy->torch>=1.8.1->torchmetrics) (1.3.0)\n",
            "Installing collected packages: torchmetrics\n",
            "Successfully installed torchmetrics-0.11.4\n"
          ]
        }
      ]
    },
    {
      "cell_type": "markdown",
      "source": [
        "LOSS FUNCTION\n",
        "\n",
        "In classification task the most used tool is cross-entropy. In pytorch we have: \n",
        "- BCELoss for binary classification\n",
        "- CrossEntropyLoss for multiclass classification "
      ],
      "metadata": {
        "id": "W0vVtruCeJlD"
      }
    },
    {
      "cell_type": "code",
      "source": [
        "loss_func = nn.BCELoss() #binary cross entropy loss\n",
        "\n",
        "#Metrics\n",
        "#Binary accuracy: torchmetrics.functional.classification.binary_accuracy(preds, target)\n",
        "import torchmetrics\n",
        "from torchmetrics.functional.classification import binary_accuracy\n",
        "\n",
        "metric_func = binary_accuracy\n",
        "\n",
        "#Optimizer\n",
        "from torch import optim\n",
        "\n",
        "#plain SGD + momentum\n",
        "#opt = optim.SGD(model.parameters(), lr = 0.001, momentum = 0.9)\n",
        "#or for example\n",
        "opt = optim.Adam(model.parameters(), lr = 1e-3)"
      ],
      "metadata": {
        "id": "Ai282v5wdb-B"
      },
      "execution_count": null,
      "outputs": []
    },
    {
      "cell_type": "code",
      "source": [
        "#Test implementation on one batch before to train\n",
        "xb, yb = next(iter(dataloader_train))\n",
        "xb = xb.type(torch.float).to(device) #put tensors on device\n",
        "yb = yb.type(torch.float).to(device)\n",
        "\n",
        "#prediction\n",
        "pred = model(xb)\n",
        "print('output shape ', pred.shape)\n",
        "\n",
        "#Loss and metric \n",
        "loss = loss_func(pred, torch.unsqueeze(yb, 1))\n",
        "metric = binary_accuracy(pred, torch.unsqueeze(yb, 1))\n",
        "\n",
        "print('Loss: ', loss.item())\n",
        "print('Metric: ', metric.item())"
      ],
      "metadata": {
        "colab": {
          "base_uri": "https://localhost:8080/"
        },
        "id": "9Y2gXgHpgJiK",
        "outputId": "1bc39244-ddc6-408e-fcd6-ea799f03c761"
      },
      "execution_count": null,
      "outputs": [
        {
          "output_type": "stream",
          "name": "stdout",
          "text": [
            "output shape  torch.Size([32, 1])\n",
            "Loss:  0.7710956335067749\n",
            "Metric:  0.59375\n"
          ]
        }
      ]
    },
    {
      "cell_type": "code",
      "source": [
        "#TRAINING LOOP\n",
        "import time\n",
        "epochs = 100\n",
        "\n",
        "#Define a couple of lists to store loss and accuracy during training for monitorin purposes\n",
        "hist_loss = []\n",
        "hist_metric = []\n",
        "hist_val_loss = []\n",
        "hist_val_metric = []\n",
        "\n",
        "#Loop\n",
        "for epoch in range(epochs):\n",
        "  t0 = time.time()\n",
        "  \n",
        "  #Training step\n",
        "  model.train() #Important!!\n",
        "\n",
        "  train_loss = 0.0\n",
        "  train_metric = 0.0\n",
        "  counter = 0\n",
        "\n",
        "  for xb, yb in dataloader_train: #loop over minibatches\n",
        "    counter += 1\n",
        "    #move data and target to device\n",
        "    xb = xb.type(torch.float).to(device)\n",
        "    yb = yb.type(torch.float).to(device)\n",
        "\n",
        "    #get model prediction\n",
        "    pred = model(xb)\n",
        "\n",
        "    #compute loss\n",
        "    loss = loss_func(pred, torch.unsqueeze(yb, 1))\n",
        "    \n",
        "    #Compute metric\n",
        "    metric = metric_func(pred, torch.unsqueeze(yb, 1))\n",
        "    \n",
        "    train_loss += loss.item()\n",
        "    train_metric += metric.item()\n",
        "\n",
        "    #Backpropagation\n",
        "    loss.backward()\n",
        "    opt.step()\n",
        "    opt.zero_grad()\n",
        "\n",
        "  train_loss = train_loss/counter\n",
        "  train_metric = train_metric/counter\n",
        "\n",
        "  hist_loss.append(train_loss)\n",
        "  hist_metric.append(train_metric)\n",
        "\n",
        "  #Validation step\n",
        "  model.eval() #Important!\n",
        "\n",
        "  vali_loss = 0.0\n",
        "  vali_metric = 0.0\n",
        "  counter = 0\n",
        "\n",
        "  with torch.no_grad():\n",
        "    for xb, yb in dataloader_vali:\n",
        "      counter += 1\n",
        "      xb = xb.type(torch.float).to(device)\n",
        "      yb = yb.type(torch.float).to(device)\n",
        "      pred = model(xb)\n",
        "      vloss = loss_func(pred, torch.unsqueeze(yb, 1))\n",
        "      vmetric = metric_func(pred, torch.unsqueeze(yb, 1))\n",
        "      vali_loss += vloss.item()\n",
        "      vali_metric += vmetric.item()\n",
        "\n",
        "  vali_loss = vali_loss/counter\n",
        "  vali_metric = vali_metric/counter\n",
        "\n",
        "  hist_val_loss.append(vali_loss)\n",
        "  hist_val_metric.append(vali_metric)\n",
        "\n",
        "  elapsed_time = time.time()-t0\n",
        "  print(\"Epoch: %d, time(s): %.4f, train loss: %.6f, train metric: %.6f, vali loss: %.6f, vali metric: %.6f\" % (epoch+1, elapsed_time, train_loss, train_metric, vali_loss, vali_metric))"
      ],
      "metadata": {
        "colab": {
          "base_uri": "https://localhost:8080/"
        },
        "id": "MQivU6HigUsE",
        "outputId": "97f084e6-a948-49dc-c4fc-d4a95a7bede3"
      },
      "execution_count": null,
      "outputs": [
        {
          "output_type": "stream",
          "name": "stdout",
          "text": [
            "Epoch: 1, time(s): 0.2401, train loss: 0.713389, train metric: 0.503125, vali loss: 0.686852, vali metric: 0.525000\n",
            "Epoch: 2, time(s): 0.1996, train loss: 0.674570, train metric: 0.566406, vali loss: 0.665327, vali metric: 0.618750\n",
            "Epoch: 3, time(s): 0.2039, train loss: 0.652249, train metric: 0.644531, vali loss: 0.640919, vali metric: 0.676562\n",
            "Epoch: 4, time(s): 0.2151, train loss: 0.626332, train metric: 0.693359, vali loss: 0.613921, vali metric: 0.745313\n",
            "Epoch: 5, time(s): 0.2007, train loss: 0.598693, train metric: 0.749609, vali loss: 0.583525, vali metric: 0.768750\n",
            "Epoch: 6, time(s): 0.2210, train loss: 0.567698, train metric: 0.788281, vali loss: 0.554489, vali metric: 0.773438\n",
            "Epoch: 7, time(s): 0.1962, train loss: 0.536345, train metric: 0.803906, vali loss: 0.523493, vali metric: 0.789062\n",
            "Epoch: 8, time(s): 0.2130, train loss: 0.506092, train metric: 0.810547, vali loss: 0.492707, vali metric: 0.832812\n",
            "Epoch: 9, time(s): 0.1974, train loss: 0.479185, train metric: 0.832031, vali loss: 0.467607, vali metric: 0.825000\n",
            "Epoch: 10, time(s): 0.2041, train loss: 0.453503, train metric: 0.839063, vali loss: 0.441939, vali metric: 0.846875\n",
            "Epoch: 11, time(s): 0.2054, train loss: 0.431397, train metric: 0.850391, vali loss: 0.422025, vali metric: 0.843750\n",
            "Epoch: 12, time(s): 0.2710, train loss: 0.411907, train metric: 0.860547, vali loss: 0.403437, vali metric: 0.851562\n",
            "Epoch: 13, time(s): 0.2685, train loss: 0.394914, train metric: 0.869531, vali loss: 0.385388, vali metric: 0.862500\n",
            "Epoch: 14, time(s): 0.2570, train loss: 0.378476, train metric: 0.866016, vali loss: 0.375319, vali metric: 0.846875\n",
            "Epoch: 15, time(s): 0.2538, train loss: 0.364380, train metric: 0.871875, vali loss: 0.355499, vali metric: 0.868750\n",
            "Epoch: 16, time(s): 0.2665, train loss: 0.350855, train metric: 0.875781, vali loss: 0.344970, vali metric: 0.865625\n",
            "Epoch: 17, time(s): 0.2558, train loss: 0.340538, train metric: 0.883984, vali loss: 0.333617, vali metric: 0.871875\n",
            "Epoch: 18, time(s): 0.2621, train loss: 0.327947, train metric: 0.891016, vali loss: 0.321210, vali metric: 0.873437\n",
            "Epoch: 19, time(s): 0.2706, train loss: 0.317417, train metric: 0.893359, vali loss: 0.312388, vali metric: 0.881250\n",
            "Epoch: 20, time(s): 0.2769, train loss: 0.308168, train metric: 0.897266, vali loss: 0.301028, vali metric: 0.879687\n",
            "Epoch: 21, time(s): 0.2349, train loss: 0.301965, train metric: 0.902344, vali loss: 0.294903, vali metric: 0.889062\n",
            "Epoch: 22, time(s): 0.1985, train loss: 0.293764, train metric: 0.900391, vali loss: 0.283819, vali metric: 0.887500\n",
            "Epoch: 23, time(s): 0.2049, train loss: 0.282911, train metric: 0.903906, vali loss: 0.275546, vali metric: 0.893750\n",
            "Epoch: 24, time(s): 0.2008, train loss: 0.276840, train metric: 0.906641, vali loss: 0.270691, vali metric: 0.904687\n",
            "Epoch: 25, time(s): 0.1969, train loss: 0.269840, train metric: 0.914062, vali loss: 0.259190, vali metric: 0.898438\n",
            "Epoch: 26, time(s): 0.2219, train loss: 0.262393, train metric: 0.917188, vali loss: 0.253843, vali metric: 0.892188\n",
            "Epoch: 27, time(s): 0.1922, train loss: 0.255600, train metric: 0.917969, vali loss: 0.246319, vali metric: 0.909375\n",
            "Epoch: 28, time(s): 0.2120, train loss: 0.250206, train metric: 0.921094, vali loss: 0.239745, vali metric: 0.906250\n",
            "Epoch: 29, time(s): 0.2057, train loss: 0.243128, train metric: 0.920312, vali loss: 0.234979, vali metric: 0.903125\n",
            "Epoch: 30, time(s): 0.1974, train loss: 0.237055, train metric: 0.922656, vali loss: 0.231893, vali metric: 0.914062\n",
            "Epoch: 31, time(s): 0.2130, train loss: 0.231366, train metric: 0.929688, vali loss: 0.224999, vali metric: 0.909375\n",
            "Epoch: 32, time(s): 0.2027, train loss: 0.226172, train metric: 0.928516, vali loss: 0.216288, vali metric: 0.920312\n",
            "Epoch: 33, time(s): 0.1939, train loss: 0.221889, train metric: 0.926953, vali loss: 0.215004, vali metric: 0.926562\n",
            "Epoch: 34, time(s): 0.2139, train loss: 0.216167, train metric: 0.930078, vali loss: 0.208866, vali metric: 0.931250\n",
            "Epoch: 35, time(s): 0.1930, train loss: 0.211470, train metric: 0.932813, vali loss: 0.204762, vali metric: 0.931250\n",
            "Epoch: 36, time(s): 0.2121, train loss: 0.209215, train metric: 0.933984, vali loss: 0.198015, vali metric: 0.921875\n",
            "Epoch: 37, time(s): 0.1911, train loss: 0.203872, train metric: 0.935547, vali loss: 0.191522, vali metric: 0.928125\n",
            "Epoch: 38, time(s): 0.1962, train loss: 0.197606, train metric: 0.936719, vali loss: 0.192909, vali metric: 0.925000\n",
            "Epoch: 39, time(s): 0.2068, train loss: 0.193955, train metric: 0.937109, vali loss: 0.183873, vali metric: 0.932813\n",
            "Epoch: 40, time(s): 0.2088, train loss: 0.187430, train metric: 0.940625, vali loss: 0.180351, vali metric: 0.935937\n",
            "Epoch: 41, time(s): 0.2151, train loss: 0.184951, train metric: 0.939063, vali loss: 0.177835, vali metric: 0.931250\n",
            "Epoch: 42, time(s): 0.1927, train loss: 0.184304, train metric: 0.942578, vali loss: 0.170243, vali metric: 0.946875\n",
            "Epoch: 43, time(s): 0.1998, train loss: 0.176847, train metric: 0.944141, vali loss: 0.168904, vali metric: 0.951562\n",
            "Epoch: 44, time(s): 0.2076, train loss: 0.172692, train metric: 0.947656, vali loss: 0.165981, vali metric: 0.946875\n",
            "Epoch: 45, time(s): 0.2033, train loss: 0.169169, train metric: 0.944141, vali loss: 0.162229, vali metric: 0.940625\n",
            "Epoch: 46, time(s): 0.1961, train loss: 0.166864, train metric: 0.948047, vali loss: 0.157028, vali metric: 0.951562\n",
            "Epoch: 47, time(s): 0.2039, train loss: 0.163280, train metric: 0.948828, vali loss: 0.152895, vali metric: 0.951562\n",
            "Epoch: 48, time(s): 0.1968, train loss: 0.159597, train metric: 0.951562, vali loss: 0.151171, vali metric: 0.959375\n",
            "Epoch: 49, time(s): 0.2121, train loss: 0.157122, train metric: 0.951953, vali loss: 0.146317, vali metric: 0.956250\n",
            "Epoch: 50, time(s): 0.2006, train loss: 0.153980, train metric: 0.955078, vali loss: 0.146450, vali metric: 0.959375\n",
            "Epoch: 51, time(s): 0.2265, train loss: 0.152027, train metric: 0.954297, vali loss: 0.142085, vali metric: 0.959375\n",
            "Epoch: 52, time(s): 0.2065, train loss: 0.149890, train metric: 0.953906, vali loss: 0.138322, vali metric: 0.962500\n",
            "Epoch: 53, time(s): 0.1998, train loss: 0.145787, train metric: 0.955469, vali loss: 0.136073, vali metric: 0.962500\n",
            "Epoch: 54, time(s): 0.2114, train loss: 0.143409, train metric: 0.958594, vali loss: 0.142187, vali metric: 0.951562\n",
            "Epoch: 55, time(s): 0.2091, train loss: 0.139492, train metric: 0.958984, vali loss: 0.131154, vali metric: 0.962500\n",
            "Epoch: 56, time(s): 0.1985, train loss: 0.138022, train metric: 0.960938, vali loss: 0.132365, vali metric: 0.962500\n",
            "Epoch: 57, time(s): 0.2131, train loss: 0.135620, train metric: 0.960938, vali loss: 0.126973, vali metric: 0.965625\n",
            "Epoch: 58, time(s): 0.1972, train loss: 0.133266, train metric: 0.962109, vali loss: 0.123643, vali metric: 0.964063\n",
            "Epoch: 59, time(s): 0.2108, train loss: 0.134691, train metric: 0.959375, vali loss: 0.124228, vali metric: 0.965625\n",
            "Epoch: 60, time(s): 0.2111, train loss: 0.129343, train metric: 0.960547, vali loss: 0.120549, vali metric: 0.967187\n",
            "Epoch: 61, time(s): 0.2044, train loss: 0.126956, train metric: 0.963672, vali loss: 0.117741, vali metric: 0.967187\n",
            "Epoch: 62, time(s): 0.2035, train loss: 0.125719, train metric: 0.963281, vali loss: 0.118555, vali metric: 0.967187\n",
            "Epoch: 63, time(s): 0.2000, train loss: 0.122857, train metric: 0.964063, vali loss: 0.115081, vali metric: 0.967187\n",
            "Epoch: 64, time(s): 0.2092, train loss: 0.122616, train metric: 0.963672, vali loss: 0.112102, vali metric: 0.968750\n",
            "Epoch: 65, time(s): 0.2152, train loss: 0.119755, train metric: 0.963672, vali loss: 0.111261, vali metric: 0.968750\n",
            "Epoch: 66, time(s): 0.2030, train loss: 0.116693, train metric: 0.966016, vali loss: 0.112360, vali metric: 0.968750\n",
            "Epoch: 67, time(s): 0.1932, train loss: 0.115735, train metric: 0.967187, vali loss: 0.106982, vali metric: 0.970313\n",
            "Epoch: 68, time(s): 0.2068, train loss: 0.114345, train metric: 0.966797, vali loss: 0.105466, vali metric: 0.971875\n",
            "Epoch: 69, time(s): 0.2197, train loss: 0.112023, train metric: 0.967969, vali loss: 0.103782, vali metric: 0.970313\n",
            "Epoch: 70, time(s): 0.2788, train loss: 0.111029, train metric: 0.969531, vali loss: 0.105101, vali metric: 0.971875\n",
            "Epoch: 71, time(s): 0.2521, train loss: 0.108519, train metric: 0.969141, vali loss: 0.100892, vali metric: 0.971875\n",
            "Epoch: 72, time(s): 0.2486, train loss: 0.110238, train metric: 0.965625, vali loss: 0.108490, vali metric: 0.967187\n",
            "Epoch: 73, time(s): 0.2659, train loss: 0.107592, train metric: 0.967187, vali loss: 0.099967, vali metric: 0.975000\n",
            "Epoch: 74, time(s): 0.2517, train loss: 0.107444, train metric: 0.968750, vali loss: 0.097642, vali metric: 0.971875\n",
            "Epoch: 75, time(s): 0.2445, train loss: 0.105182, train metric: 0.969922, vali loss: 0.096691, vali metric: 0.970313\n",
            "Epoch: 76, time(s): 0.2578, train loss: 0.105380, train metric: 0.967969, vali loss: 0.095700, vali metric: 0.968750\n",
            "Epoch: 77, time(s): 0.2820, train loss: 0.100242, train metric: 0.970703, vali loss: 0.093498, vali metric: 0.971875\n",
            "Epoch: 78, time(s): 0.2637, train loss: 0.099503, train metric: 0.972656, vali loss: 0.102223, vali metric: 0.968750\n",
            "Epoch: 79, time(s): 0.2704, train loss: 0.099373, train metric: 0.970313, vali loss: 0.097113, vali metric: 0.970313\n",
            "Epoch: 80, time(s): 0.1955, train loss: 0.098764, train metric: 0.972266, vali loss: 0.091380, vali metric: 0.970313\n",
            "Epoch: 81, time(s): 0.2053, train loss: 0.097647, train metric: 0.971875, vali loss: 0.089613, vali metric: 0.976562\n",
            "Epoch: 82, time(s): 0.2181, train loss: 0.097807, train metric: 0.970703, vali loss: 0.110185, vali metric: 0.970313\n",
            "Epoch: 83, time(s): 0.1906, train loss: 0.097018, train metric: 0.970313, vali loss: 0.089553, vali metric: 0.970313\n",
            "Epoch: 84, time(s): 0.2207, train loss: 0.094959, train metric: 0.973047, vali loss: 0.087840, vali metric: 0.971875\n",
            "Epoch: 85, time(s): 0.1968, train loss: 0.092578, train metric: 0.973437, vali loss: 0.086281, vali metric: 0.971875\n",
            "Epoch: 86, time(s): 0.2268, train loss: 0.092517, train metric: 0.974609, vali loss: 0.089587, vali metric: 0.970313\n",
            "Epoch: 87, time(s): 0.1982, train loss: 0.095874, train metric: 0.968750, vali loss: 0.084817, vali metric: 0.971875\n",
            "Epoch: 88, time(s): 0.1991, train loss: 0.091473, train metric: 0.973437, vali loss: 0.086100, vali metric: 0.971875\n",
            "Epoch: 89, time(s): 0.1957, train loss: 0.090693, train metric: 0.973828, vali loss: 0.085074, vali metric: 0.971875\n",
            "Epoch: 90, time(s): 0.1989, train loss: 0.088404, train metric: 0.973437, vali loss: 0.082860, vali metric: 0.971875\n",
            "Epoch: 91, time(s): 0.1990, train loss: 0.089076, train metric: 0.976172, vali loss: 0.104832, vali metric: 0.970313\n",
            "Epoch: 92, time(s): 0.2090, train loss: 0.090046, train metric: 0.970313, vali loss: 0.081826, vali metric: 0.971875\n",
            "Epoch: 93, time(s): 0.2010, train loss: 0.086229, train metric: 0.976953, vali loss: 0.081106, vali metric: 0.975000\n",
            "Epoch: 94, time(s): 0.2145, train loss: 0.085295, train metric: 0.977344, vali loss: 0.084296, vali metric: 0.973437\n",
            "Epoch: 95, time(s): 0.2001, train loss: 0.086827, train metric: 0.972656, vali loss: 0.084712, vali metric: 0.973437\n",
            "Epoch: 96, time(s): 0.2163, train loss: 0.085054, train metric: 0.976562, vali loss: 0.083604, vali metric: 0.973437\n",
            "Epoch: 97, time(s): 0.2070, train loss: 0.082813, train metric: 0.975000, vali loss: 0.077818, vali metric: 0.971875\n",
            "Epoch: 98, time(s): 0.1954, train loss: 0.083385, train metric: 0.974219, vali loss: 0.076823, vali metric: 0.971875\n",
            "Epoch: 99, time(s): 0.2039, train loss: 0.082623, train metric: 0.976172, vali loss: 0.079932, vali metric: 0.975000\n",
            "Epoch: 100, time(s): 0.2058, train loss: 0.082585, train metric: 0.975000, vali loss: 0.076112, vali metric: 0.971875\n"
          ]
        }
      ]
    },
    {
      "cell_type": "code",
      "source": [
        "#Plot training results\n",
        "plt.figure(figsize = (10, 7))\n",
        "plt.subplot(1,2,1)\n",
        "plt.plot(range(1, len(hist_loss)+1), hist_loss, linestyle = '-', label = 'train loss', color ='g',)\n",
        "plt.plot(range(1, len(hist_val_loss)+1), hist_val_loss, linestyle = '-', label = 'validation loss', color = 'blue',)\n",
        "plt.xlabel('Epochs')\n",
        "plt.ylabel('Loss')\n",
        "plt.ylim(ymin = 0.0)\n",
        "plt.legend()\n",
        "plt.subplot(1,2,2)\n",
        "plt.plot(range(1, len(hist_metric)+1), hist_metric, color ='g', linestyle = '-', label = 'train metric')\n",
        "plt.plot(range(1, len(hist_val_metric)+1), hist_val_metric, color = 'blue', linestyle = '-', label = 'validation metric')\n",
        "plt.xlabel('Epochs')\n",
        "plt.ylabel('Accuracy')\n",
        "plt.ylim(ymin = 0.0)\n",
        "plt.legend()"
      ],
      "metadata": {
        "colab": {
          "base_uri": "https://localhost:8080/",
          "height": 661
        },
        "id": "0EONEdp3kRrq",
        "outputId": "e883c5f5-a097-43b4-ad8b-291bfd02d70d"
      },
      "execution_count": null,
      "outputs": [
        {
          "output_type": "execute_result",
          "data": {
            "text/plain": [
              "<matplotlib.legend.Legend at 0x7f92639b2aa0>"
            ]
          },
          "metadata": {},
          "execution_count": 60
        },
        {
          "output_type": "display_data",
          "data": {
            "text/plain": [
              "<Figure size 1000x700 with 2 Axes>"
            ],
            "image/png": "[encoded data removed]"
          },
          "metadata": {}
        }
      ]
    },
    {
      "cell_type": "code",
      "source": [
        "#Test the trained model\n",
        "#Let's test it on CPU!\n",
        "model.to(torch.device('cpu'))\n",
        "\n",
        "X_test_pt = X_test_pt.type(torch.float).to(torch.device('cpu'))\n",
        "res = model(X_test_pt)\n",
        "\n",
        "print(\"test Accuracy: \", binary_accuracy(res, torch.unsqueeze(Y_test_pt, 1)).item())"
      ],
      "metadata": {
        "colab": {
          "base_uri": "https://localhost:8080/"
        },
        "id": "AQOMefHrnB2O",
        "outputId": "3c82dfe9-235c-4927-ce1b-35298c4a1f00"
      },
      "execution_count": null,
      "outputs": [
        {
          "output_type": "stream",
          "name": "stdout",
          "text": [
            "test Accuracy:  0.981249988079071\n"
          ]
        }
      ]
    },
    {
      "cell_type": "code",
      "source": [],
      "metadata": {
        "id": "s9lSsaZanxKf"
      },
      "execution_count": null,
      "outputs": []
    }
  ]
}