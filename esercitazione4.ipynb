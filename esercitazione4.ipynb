{
  "nbformat": 4,
  "nbformat_minor": 0,
  "metadata": {
    "anaconda-cloud": {},
    "kernelspec": {
      "display_name": "Python 3",
      "language": "python",
      "name": "python3"
    },
    "language_info": {
      "codemirror_mode": {
        "name": "ipython",
        "version": 3
      },
      "file_extension": ".py",
      "mimetype": "text/x-python",
      "name": "python",
      "nbconvert_exporter": "python",
      "pygments_lexer": "ipython3",
      "version": "3.5.2"
    },
    "colab": {
      "provenance": []
    }
  },
  "cells": [
    {
      "cell_type": "markdown",
      "metadata": {
        "id": "EGRt2VfXsBRl"
      },
      "source": [
        "# Esercitazione 4: classificazione stato di un modello di Ising 2D e predizione del suo stato di magnetizzazione media con modelli di Decision Trees e Random Forests\n",
        "\n",
        "**Task:** implementare algoritmi di classificazione e regressione basati su alberi e foreste di alberi di decisioni binarie con bagging per lo studio di un sistema di ising in 2D con condizioni periodiche al contorno"
      ]
    },
    {
      "cell_type": "code",
      "metadata": {
        "id": "30WstVVD1cLP",
        "colab": {
          "base_uri": "https://localhost:8080/"
        },
        "outputId": "a576f12b-67ed-4181-fca9-58689576bd79"
      },
      "source": [
        "!rm -rf ising_conf.dat.gz\n",
        "!rm -rf ising_conf.dat\n",
        "!rm -rf ising_label.dat.gz\n",
        "!rm -rf ising_label.dat\n",
        "!rm -rf JetSubStruct.dat.gz\n",
        "!wget http://giagu.web.cern.ch/giagu/CERN/ising_conf.dat.gz\n",
        "!wget http://giagu.web.cern.ch/giagu/CERN/ising_label.dat.gz\n",
        "!gunzip ising_conf.dat.gz\n",
        "!gunzip ising_label.dat.gz"
      ],
      "execution_count": 1,
      "outputs": [
        {
          "output_type": "stream",
          "name": "stdout",
          "text": [
            "--2023-04-04 15:17:23--  http://giagu.web.cern.ch/giagu/CERN/ising_conf.dat.gz\n",
            "Resolving giagu.web.cern.ch (giagu.web.cern.ch)... 188.184.21.205, 2001:1458:d00:34::100:59\n",
            "Connecting to giagu.web.cern.ch (giagu.web.cern.ch)|188.184.21.205|:80... connected.\n",
            "HTTP request sent, awaiting response... 200 OK\n",
            "Length: 2953855 (2.8M) [application/gzip]\n",
            "Saving to: ‘ising_conf.dat.gz’\n",
            "\n",
            "ising_conf.dat.gz   100%[===================>]   2.82M  1.65MB/s    in 1.7s    \n",
            "\n",
            "2023-04-04 15:17:25 (1.65 MB/s) - ‘ising_conf.dat.gz’ saved [2953855/2953855]\n",
            "\n",
            "--2023-04-04 15:17:25--  http://giagu.web.cern.ch/giagu/CERN/ising_label.dat.gz\n",
            "Resolving giagu.web.cern.ch (giagu.web.cern.ch)... 188.184.21.205, 2001:1458:d00:34::100:59\n",
            "Connecting to giagu.web.cern.ch (giagu.web.cern.ch)|188.184.21.205|:80... connected.\n",
            "HTTP request sent, awaiting response... 200 OK\n",
            "Length: 86723 (85K) [application/gzip]\n",
            "Saving to: ‘ising_label.dat.gz’\n",
            "\n",
            "ising_label.dat.gz  100%[===================>]  84.69K  --.-KB/s    in 0.05s   \n",
            "\n",
            "2023-04-04 15:17:25 (1.76 MB/s) - ‘ising_label.dat.gz’ saved [86723/86723]\n",
            "\n"
          ]
        }
      ]
    },
    {
      "cell_type": "markdown",
      "metadata": {
        "id": "UmiJY2e0sBRn"
      },
      "source": [
        "### Informazioni di base sul Modello di Ising 2D ###\n",
        "\n",
        "dettagli (definizione teorica e simulazione) nella [nota](https://vixra.org/pdf/1710.0021v2.pdf).\n",
        "\n",
        "È costituito da una serie di spin (che possono assumere solo i valori -1 (down) e +1 (up)) interagenti tra loro, posti ai vertici di un reticolo quadrato bidimensionale. La dinamica del sistema (in assenza di campo magnetico esterno) è descritta dall'Hamiltoniana: \n",
        "\n",
        "$$ H = -J\\sum_{\\langle ij\\rangle}S_{i}S_j,\\qquad \\qquad S_j\\in\\{\\pm 1\\} $$\n",
        "\n",
        "in cui gli indici del reticolo $i,j$ sono associati ai primi vicini di un reticolo 2D quadrato di lato $L$, e $J$ è un parametro di scala arbitrario che definisce la scala dell'energia di interazione tra gli spin $S_i$.\n",
        "Si utilizzano condizioni periodiche al contorno sul reticolo.\n",
        "\n",
        "Si può dimostrare che questo sistema presenta una transizione di fase nel limite termodinamico da un sistema ordinato con tutti gli spin allineati (ferromagnete ordinato) a temperatura zero, a una fase disordinata con spin competamente random, ad alta temperatura. La temperatura critica a cui avviene la transizione è data da $T_c/J=1/\\log(1+\\sqrt{2})\\approx 2.26$.\n",
        "\n",
        "\n",
        "**Dataset:**\n",
        "\n",
        "Viene fornito \n",
        "25k configurazioni con $T/J$ uniforme in $[0,5]$ di un modello ising 2D su un reticolo $28\\times 28$ simulato tramite un semplice Monte Carlo tipo Metropolis. \n",
        "\n",
        "Il campione è disponibile in due file:\n",
        "\n",
        "* configurazioni: *ising_conf.dat*\n",
        "* label: *ising_label.dat*\n",
        "\n",
        "NOTA BENE: le configurazioni sono salvate in file testuali, che letti con numpy (*np.loadtxt*) forniscono tensori di shape *(25000x28,28)* che vanno reshaped nel formato *(25000,28x28)* e *(25000,28,28)* per essere utilizzati con scikit-learn in modo efficiente."
      ]
    },
    {
      "cell_type": "markdown",
      "metadata": {
        "id": "Cx1fqjsbsBRo"
      },
      "source": [
        "**Parte 1:**\n",
        "\n",
        "Loading, analisi e pre-processamento del dataset:\n",
        "\n",
        "1.   leggere le configurazioni e salvarle in due tensori numpy *data(25000,784)* e *data_2d(25000,28,28)*, usando il metodo *np.loadtxt* di numpy. Idem per le temperature: *temp(25000,1)* \n",
        "2.   poiché è noto che vicino alla temepratura critica $T_c$, la lunghezza delle correlazioni ferromagnetiche diverge, rendendo difficile identificare la fase, dvidere il campione in tre sotto-campioni corrispondenti alle classi:\n",
        "\n",
        "* ordinato: $T<2.0$\n",
        "* critico: $2.0\\leq T\\leq 2.5$\n",
        "* disordinato: $T>2.5$\n",
        "\n",
        "     costruendo un nuovo tensore numpy di label *(0,1,2)* da associare ad ogni configurazione in *data/data_2d*.\n",
        "    \n",
        "3.   visualizzare un evento per ciascuna classe usando matplotlib: *plt.imshow*  (nota: usare il tensore in formato (28,28) *data_2d*)\n"
      ]
    },
    {
      "cell_type": "code",
      "metadata": {
        "id": "YU3U7vcDXGZU",
        "colab": {
          "base_uri": "https://localhost:8080/"
        },
        "outputId": "eef55990-3194-4c18-9136-d261223803b7"
      },
      "source": [
        "#code\n",
        "import numpy as np\n",
        "#Read configurations from ising_conf.dat\n",
        "raw_data = np.loadtxt(\"ising_conf.dat\")\n",
        "\n",
        "#Create arrays of requested shape\n",
        "data = np.reshape(raw_data, (25000, 784))\n",
        "data_2d = np.reshape(raw_data, (25000, 28, 28))\n",
        "\n",
        "print(\"Tipo e shape di array data: {}, {}\".format(type(data), data.shape))\n",
        "print(\"Tipo e shape di array data_2d: {}, {}\".format(type(data_2d), data_2d.shape))"
      ],
      "execution_count": 2,
      "outputs": [
        {
          "output_type": "stream",
          "name": "stdout",
          "text": [
            "Tipo e shape di array data: <class 'numpy.ndarray'>, (25000, 784)\n",
            "Tipo e shape di array data_2d: <class 'numpy.ndarray'>, (25000, 28, 28)\n"
          ]
        }
      ]
    },
    {
      "cell_type": "code",
      "source": [
        "#Read temperatures from file label\n",
        "temp = np.loadtxt(\"ising_label.dat\")\n",
        "\n",
        "print(\"Tipo e shape di array temp: {}, {}\".format(type(temp), temp.shape))"
      ],
      "metadata": {
        "colab": {
          "base_uri": "https://localhost:8080/"
        },
        "id": "LH8KS11YKGS_",
        "outputId": "27e8b786-d7c7-4fc5-bc9e-86cf7f1c5d16"
      },
      "execution_count": 3,
      "outputs": [
        {
          "output_type": "stream",
          "name": "stdout",
          "text": [
            "Tipo e shape di array temp: <class 'numpy.ndarray'>, (25000,)\n"
          ]
        }
      ]
    },
    {
      "cell_type": "code",
      "source": [
        "#Divide label in 3 classes (0, 1, 2)\n",
        "#3 arrays with True False values\n",
        "ord = (temp < 2.0)\n",
        "crit = (temp >= 2.0) & (temp <= 2.5)\n",
        "dis = (temp > 2.5)\n",
        "\n",
        "print(\"Tipi (ordinato, crit, disordinato): {}, {}, {}\".format(type(ord), type(crit), type(dis)))\n",
        "print(\"Lungehzze (ord, crit, dis): {}, {}, {}\".format(len(ord), len(crit), len(dis)))\n",
        "\n",
        "#label = temp\n",
        "label = np.zeros(len(temp))\n",
        "label[ord] = 0\n",
        "label[crit] = 1\n",
        "label[dis] = 2\n",
        "\n",
        "print(\"Length and shape of label array: {}, {}\".format(len(label), label.shape))"
      ],
      "metadata": {
        "colab": {
          "base_uri": "https://localhost:8080/"
        },
        "id": "WM_osUHHKxp3",
        "outputId": "7a476bbe-0167-489d-b00a-29ed8e6c00ee"
      },
      "execution_count": 4,
      "outputs": [
        {
          "output_type": "stream",
          "name": "stdout",
          "text": [
            "Tipi (ordinato, crit, disordinato): <class 'numpy.ndarray'>, <class 'numpy.ndarray'>, <class 'numpy.ndarray'>\n",
            "Lungehzze (ord, crit, dis): 25000, 25000, 25000\n",
            "Length and shape of label array: 25000, (25000,)\n"
          ]
        }
      ]
    },
    {
      "cell_type": "code",
      "source": [
        "#Verification\n",
        "counter = 0\n",
        "for i in range(len(label)):\n",
        "  if label[i] == 0 and temp[i] < 2.0:\n",
        "    counter += 1\n",
        "  elif label[i] == 1 and (temp[i]<= 2.5 and temp[i] >= 2.0):\n",
        "    counter += 1\n",
        "  elif label[i] == 2 and temp[i] > 2.5:\n",
        "    counter += 1\n",
        "  \n",
        "print(counter)"
      ],
      "metadata": {
        "colab": {
          "base_uri": "https://localhost:8080/"
        },
        "id": "Ba0D8eQYM0Bt",
        "outputId": "6c0fbb22-69ea-4717-d166-3139c5b6aece"
      },
      "execution_count": 5,
      "outputs": [
        {
          "output_type": "stream",
          "name": "stdout",
          "text": [
            "25000\n"
          ]
        }
      ]
    },
    {
      "cell_type": "code",
      "source": [
        "#Visualization of one event per class\n",
        "from random import randint\n",
        "import matplotlib.pyplot as plt\n",
        "\n",
        "#In order: ord, crit, dis\n",
        "plt.figure()\n",
        "for i in range(3):\n",
        "  while(True):\n",
        "    choice = randint(0, 24999)\n",
        "    if(label[choice] == i):\n",
        "      break\n",
        "  plt.subplot(1, 3, i+1)\n",
        "  if(i == 0):\n",
        "    plt.title(\"Ordinato\")\n",
        "  elif(i == 1):\n",
        "    plt.title(\"Critico\")\n",
        "  else:\n",
        "    plt.title(\"Disordinato\")\n",
        "  plt.imshow(data_2d[choice])\n",
        "  \n",
        "plt.tight_layout()\n"
      ],
      "metadata": {
        "colab": {
          "base_uri": "https://localhost:8080/",
          "height": 270
        },
        "id": "6rv0BR19MLcH",
        "outputId": "f0d22034-07b5-4e80-d3d4-61eefc1cd7ad"
      },
      "execution_count": 8,
      "outputs": [
        {
          "output_type": "display_data",
          "data": {
            "text/plain": [
              "<Figure size 640x480 with 3 Axes>"
            ],
            "image/png": "[encoded data removed]"
          },
          "metadata": {}
        }
      ]
    },
    {
      "cell_type": "code",
      "metadata": {
        "colab": {
          "base_uri": "https://localhost:8080/"
        },
        "id": "1SkcaQ8vXH-y",
        "outputId": "0967d745-53d0-492a-b6a0-f1a327674a27"
      },
      "source": [
        "#@title Soluzione 1.1\n",
        "import numpy as np\n",
        "\n",
        "rnd_ini = 123456\n",
        "np.random.seed(rnd_ini) # shuffle random seed generator\n",
        "\n",
        "# Ising model parameters\n",
        "L=28 # size del reticolo\n",
        "J=1.0 # Ising interaction (1 ferromagnetico, -1 anti-ferromagnetico)\n",
        "T_c=2.26 # Temperatura critica\n",
        "\n",
        "#leggiamo le configurazioni ising dal file usando numpy (25k esempi oguno da 28x28 spin)\n",
        "data = np.loadtxt('ising_conf.dat')\n",
        "data = data.reshape(25000,28*28)\n",
        "print('data shape: ',data.shape)\n",
        "\n",
        "# al fine di visualizzare alcune delle configurazioni convertiamo il vettore numpy un tensore di 25K eventi ognuno \n",
        "# formato da una matrice 28x28 di spin\n",
        "data_2d = data.reshape(data.shape[0],28,28)\n",
        "print('data_2d shape: ',data_2d.shape)\n",
        "\n",
        "#leggiamo da file le label associate:\n",
        "temp = np.loadtxt('ising_label.dat')\n",
        "print('temp shape: ',temp.shape)"
      ],
      "execution_count": 9,
      "outputs": [
        {
          "output_type": "stream",
          "name": "stdout",
          "text": [
            "data shape:  (25000, 784)\n",
            "data_2d shape:  (25000, 28, 28)\n",
            "temp shape:  (25000,)\n"
          ]
        }
      ]
    },
    {
      "cell_type": "code",
      "metadata": {
        "colab": {
          "base_uri": "https://localhost:8080/"
        },
        "id": "Vp8ME2CCYXi2",
        "outputId": "521b8297-1a77-4223-9d2b-0c36cc133b56"
      },
      "source": [
        "#@title Soluzione 1.2\n",
        "# dividiamo il campione in 3 campioni sulla base dello stato (ordinato, critico, disordinato)\n",
        "# T/J < 2.0 ordinato\n",
        "# T/J in [2.0,2.5] critico\n",
        "# T/J > 2.5 disordinato\n",
        "\n",
        "ord_sele = (temp < 2.0)\n",
        "cri_sele = ((temp >= 2.0) & (temp <= 2.5))\n",
        "dis_sele = (temp > 2.5)\n",
        "\n",
        "labels = np.zeros(shape=temp.shape)\n",
        "labels[ord_sele]=0\n",
        "labels[cri_sele]=1\n",
        "labels[dis_sele]=2\n",
        "\n",
        "print('labels shape: ',labels.shape) \n",
        "print('# conf. ordinate: ', labels[ord_sele].shape[0])\n",
        "print('# conf. critiche: ', labels[cri_sele].shape[0])\n",
        "print('# conf. disordinate: ', labels[dis_sele].shape[0])"
      ],
      "execution_count": null,
      "outputs": [
        {
          "output_type": "stream",
          "name": "stdout",
          "text": [
            "labels shape:  (25000,)\n",
            "# conf. ordinate:  9953\n",
            "# conf. critiche:  2563\n",
            "# conf. disordinate:  12484\n"
          ]
        }
      ]
    },
    {
      "cell_type": "code",
      "metadata": {
        "colab": {
          "base_uri": "https://localhost:8080/",
          "height": 288
        },
        "id": "bpRqzaTZZrLJ",
        "cellView": "form",
        "outputId": "281a54b0-0cac-41d2-8c6e-6d82ba13f8e5"
      },
      "source": [
        "#@title Soluzione 1.3\n",
        "import matplotlib.pyplot as plt\n",
        "\n",
        "# set colourbar map\n",
        "cmap_args=dict(cmap='plasma_r')\n",
        "\n",
        "# plot states\n",
        "fig, axarr = plt.subplots(nrows=1, ncols=3)\n",
        "\n",
        "ieve = 11 #seleziono un evento a caso di ogni classe\n",
        "axarr[0].imshow((data_2d[ord_sele])[ieve],**cmap_args)\n",
        "axarr[0].set_title('ordered phase',fontsize=16)\n",
        "axarr[0].tick_params(labelsize=16)\n",
        "\n",
        "axarr[1].imshow((data_2d[cri_sele])[ieve],**cmap_args)\n",
        "axarr[1].set_title('critical region',fontsize=16)\n",
        "axarr[1].tick_params(labelsize=16)\n",
        "\n",
        "im=axarr[2].imshow((data_2d[dis_sele])[ieve],**cmap_args)\n",
        "axarr[2].set_title('disordered phase',fontsize=16)\n",
        "axarr[2].tick_params(labelsize=16)\n",
        "\n",
        "fig.subplots_adjust(right=2.0)\n",
        "\n",
        "plt.show()"
      ],
      "execution_count": null,
      "outputs": [
        {
          "output_type": "display_data",
          "data": {
            "text/plain": [
              "<Figure size 432x288 with 3 Axes>"
            ],
            "image/png": "[encoded data removed]"
          },
          "metadata": {
            "needs_background": "light"
          }
        }
      ]
    },
    {
      "cell_type": "markdown",
      "metadata": {
        "id": "uPXWmhhHODdt"
      },
      "source": [
        "**Parte 2**:\n",
        "\n",
        "Implementazione di dueclassificatori basati su un **albero di decisione binaria, una random forest (basata su bagging)**, addestrati alla task di identificare la classe (0,1,2) delle configurazioni (ordinata, critica, disordinata).\n",
        "\n",
        "1.   dividere campione e label in tre sotto-campioni: **training, validation e test set** (*60-20-20 %*) usando sklearn:\n",
        "\n",
        "`from sklearn.model_selection import train_test_split`\n",
        "\n",
        "2.   implementare e **addestrare sul campione di training** i due classificator:\n",
        "\n",
        "```\n",
        "from sklearn.tree import DecisionTreeClassifier\n",
        "from sklearn.ensemble import RandomForestClassifier\n",
        "```\n",
        "\n",
        "3.   usando come metrica l'accuracy, **ottmizzare gli iperparametri** dei modelli (NOTA: valutare l'accuracy sia sul **training set** che sul **validation set** e usare quest'ultima come misura non distorta delle prestazioni in generalizzazione del modello):\n",
        "\n",
        "*   DecisionTreeClassifier: *max_depth*, 10 valori in [1,10]\n",
        "*   RandomForestClassifier: *n_estimators*, 10 valori in [2,100], e *min_samples_split*, testare 2 valori per il parametro =2 e =10000\n",
        "\n",
        "4.  insieme all'accuracy stimata sul test calcolare anche l'accuracy sul campione Out-Of-Bag (OOB: disponibile solo per le RandomForest, vedi la nota successiva per una spiegazione)\n",
        "5.   graficare accuracy e stima OOB sul training e test set in funzione del valore del parametro ottimizzato \n",
        "6.   confrontare in termini di **accuracy media** e **matrice di confusione** calcolate sul *campione di test* i risultati ottenuti con i due modelli ottimizzati"
      ]
    },
    {
      "cell_type": "markdown",
      "metadata": {
        "id": "_lzuasnBTy6r"
      },
      "source": [
        "**NOTA: RandomForest in scikit-learn**\n",
        "\n",
        "**Iperparametri**\n",
        "\n",
        "Usiamo l'implementazione in [scikit-learn](https://scikit-learn.org/stable/modules/generated/sklearn.ensemble.RandomForestClassifier.html) che ha due iperparamteri principali che possono modificare anche sensibimente le prestazioni del modello e il livelo di overfit/underfit: il numero di alberi nella foresta e la complessità di ciascun albero: il primo è controllato dal parametro `n_estimators`, mentre la complesiità è controllata da vari parametri `min_samples_split`, `min_samples_leaf`, `min_impurity_decrease`, etc, in parte correlati tra loro. Nell'esempio in esame per semplicità useremo solo `min_samples_split` (governa il numero di campioni necessari per procedere ad uno split di un nodo: più alto è il numero minore sarà la segmentazione e le diramazioni dell'albero.\n",
        "Per il semplice DecisionTreeClassifier useremo *max_depth*: che controlla la massima profondità dell'albero.\n",
        "\n",
        "**Stima OOB (Out Of Bag)**\n",
        "\n",
        "È un metodo molto utile per ottimizzare gli iperparametri quando si usano metodi di bagging: consiste nel verificare quanto bene funziona il classificatore su quegli eventi del training set che non sono stati usati perchè non campionati nella technica di boostrap. Gioca un ruolo simile alla k-fold cross-validation. È disponibile come metodo di RandomForestClassifier: *.oob_score_*"
      ]
    },
    {
      "cell_type": "code",
      "metadata": {
        "id": "8VcSVs56fB4K"
      },
      "source": [
        "from os import RTLD_DEEPBIND\n",
        "#code\n",
        "from sklearn.model_selection import train_test_split\n",
        "\n",
        "#Divide training, and first test set\n",
        "x_train, x_test, y_train, y_test = train_test_split(data, label, test_size = 0.4, train_size = 0.6)\n",
        "\n",
        "#Subdivide first test set in validation set and actual test set\n",
        "x_vali, x_test, y_vali, y_test =  train_test_split(x_test, y_test, test_size = 0.5, train_size = 0.5)"
      ],
      "execution_count": 10,
      "outputs": []
    },
    {
      "cell_type": "code",
      "source": [
        "#DECISION TREE CLASSIFIER\n",
        "from sklearn.tree import DecisionTreeClassifier\n",
        "\n",
        "best = 0.\n",
        "best_depth = 0.\n",
        "train_score = []\n",
        "test_score = []\n",
        "vali_score = []\n",
        "index = np.arange(1, 11)\n",
        "print(\"Max Depth \\t Accuracy train \\t Accuracy Vali\")\n",
        "for i in index:\n",
        "  #model\n",
        "  clf = DecisionTreeClassifier(max_depth = i)\n",
        "  clf.fit(x_train, y_train)\n",
        "\n",
        "  #Accuracy on training and validation and test set\n",
        "  train_score.append(clf.score(x_train, y_train))\n",
        "  vali_score.append(clf.score(x_vali, y_vali))\n",
        "\n",
        "  #Print accuracy for every max_depth\n",
        "  print(\"{} \\t\\t {} \\t\\t {}\".format(i, np.round(train_score[i-1], 4), np.round(vali_score[i-1], 4)))\n",
        "\n",
        "  if(vali_score[i-1] >= best):\n",
        "    best = vali_score[i-1]\n",
        "    best_depth = i\n",
        "\n",
        "print()\n",
        "print(\"Best accuracy: {} \\t relative to best max depth: {}\".format(best, best_depth))\n",
        "\n",
        "#With best max_depth I estimate accuracy on test set\n",
        "clf_best = DecisionTreeClassifier(max_depth = best_depth)\n",
        "clf.fit(x_train, y_train)\n",
        "test_score_tree = clf.score(x_test, y_test)\n",
        "#Predicted\n",
        "prediction_tree = clf.predict(x_test)\n",
        "print(\"Test accuracy inferred with best max depth: {}\".format(test_score_tree))\n",
        "\n",
        "#Graphics\n",
        "plt.figure()\n",
        "plt.xlabel('max depth')\n",
        "plt.ylabel('Accuracy')\n",
        "plt.plot(index, train_score, '-o', label = 'Training set', color = 'blue')\n",
        "plt.plot(index, vali_score, '-o', label = 'Validation set', color = 'red')\n",
        "plt.legend()\n",
        "plt.show()"
      ],
      "metadata": {
        "colab": {
          "base_uri": "https://localhost:8080/",
          "height": 701
        },
        "id": "l-3fWghJiVwG",
        "outputId": "b038f07b-2a5c-4bcf-b064-6c73748e6da5"
      },
      "execution_count": 11,
      "outputs": [
        {
          "output_type": "stream",
          "name": "stdout",
          "text": [
            "Max Depth \t Accuracy train \t Accuracy Vali\n",
            "1 \t\t 0.4991 \t\t 0.5044\n",
            "2 \t\t 0.6237 \t\t 0.6136\n",
            "3 \t\t 0.7362 \t\t 0.7284\n",
            "4 \t\t 0.7929 \t\t 0.7846\n",
            "5 \t\t 0.8198 \t\t 0.8134\n",
            "6 \t\t 0.8319 \t\t 0.8288\n",
            "7 \t\t 0.8514 \t\t 0.8354\n",
            "8 \t\t 0.8717 \t\t 0.841\n",
            "9 \t\t 0.8939 \t\t 0.8306\n",
            "10 \t\t 0.9228 \t\t 0.8272\n",
            "\n",
            "Best accuracy: 0.841 \t relative to best max depth: 8\n",
            "Test accuracy inferred with best max depth: 0.8208\n"
          ]
        },
        {
          "output_type": "display_data",
          "data": {
            "text/plain": [
              "<Figure size 640x480 with 1 Axes>"
            ],
            "image/png": "[encoded data removed]"
          },
          "metadata": {}
        }
      ]
    },
    {
      "cell_type": "code",
      "source": [
        "#RANDOM FOREST CLASSIFIER\n",
        "from sklearn.ensemble import RandomForestClassifier\n",
        "import warnings\n",
        "\n",
        "#Disable warning messages\n",
        "warnings.filterwarnings(\"ignore\")\n",
        "\n",
        "train_score = np.zeros(2*10)\n",
        "train_score = np.reshape(train_score, (2, 10))\n",
        "vali_score = np.zeros(2*10)\n",
        "vali_score = np.reshape(vali_score, (2, 10))\n",
        "OOB_score = np.zeros(2*10)\n",
        "OOB_score = np.reshape(OOB_score, (2, 10))\n",
        "best_acc = 0.\n",
        "best_min_samples = 0\n",
        "best_estimator = 0\n",
        "estimators = np.linspace(2, 100, 10, dtype = int)\n",
        "\n",
        "print(\"min samples split \\t n estimators \\t train accuracy \\t vali accuracy \\t oob accuracy\")\n",
        "#External loop on min_samples_split\n",
        "min_samples = np.array([2, 10000])\n",
        "for i in range(2):\n",
        "  #Internal loop on ramification order\n",
        "  for j in range(len(estimators)):  \n",
        "    clf = RandomForestClassifier(n_estimators = estimators[j], min_samples_split = min_samples[i], oob_score = True)\n",
        "    clf.fit(x_train, y_train)\n",
        "\n",
        "    #score on training and validation set and oob\n",
        "    train_score[i][j] = clf.score(x_train, y_train)\n",
        "    vali_score[i][j] = clf.score(x_vali, y_vali)\n",
        "    OOB_score[i][j] = clf.oob_score_\n",
        "\n",
        "    #Best accuracy\n",
        "    if(vali_score[i][j] > best_acc):\n",
        "      best_acc = vali_score[i][j]\n",
        "      best_estimator = estimators[j]\n",
        "      best_min_samples = min_samples[i]\n",
        "\n",
        "    #print results\n",
        "    print(\"{} \\t\\t\\t {} \\t\\t {} \\t\\t {} \\t\\t {}\".format(min_samples[i], estimators[j], train_score[i][j], vali_score[i][j], OOB_score[i][j]))\n",
        "  print()\n",
        "\n",
        "#print best stuff\n",
        "print(\"Best accuracy: {} relative to best n estimators: {} and best min samples: {}\".format(best_acc, best_estimator, best_min_samples))\n",
        "print()\n",
        "\n",
        "#Accuracy on test set with optimal parameters\n",
        "clf = RandomForestClassifier(n_estimators = best_estimator, min_samples_split = best_min_samples, )\n",
        "clf.fit(x_train, y_train)\n",
        "test_score_forest = clf.score(x_test, y_test)\n",
        "print(\"Accuracy of test set: {}\".format(test_score_forest))\n",
        "#Prediction\n",
        "prediction_forest = clf.predict(x_test)\n",
        "\n",
        "#Plot\n",
        "plt.figure()\n",
        "formato = ''\n",
        "plt.xlabel('$N_{estimators}$')\n",
        "plt.ylabel(\"Accuracy\")\n",
        "for i in range(2):\n",
        "  if(i == 0):\n",
        "    formato = '-o'\n",
        "  else:\n",
        "    formato = '-*'\n",
        "  plt.plot(estimators, train_score[i], '{}'.format(formato), label = 'Training ({})'.format(min_samples[i]), color = 'red')\n",
        "  plt.plot(estimators, vali_score[i], '{}'.format(formato), label = 'Validation ({})'.format(min_samples[i]), color = 'blue')\n",
        "  plt.plot(estimators, OOB_score[i], '{}'.format(formato),label = 'OOB ({})'.format(min_samples[i]), color = 'green')\n",
        "\n",
        "plt.legend()"
      ],
      "metadata": {
        "colab": {
          "base_uri": "https://localhost:8080/",
          "height": 919
        },
        "id": "XFr8Rt72sFkE",
        "outputId": "3d0ed521-15ef-47f4-e83f-0d448bdebb9b"
      },
      "execution_count": 12,
      "outputs": [
        {
          "output_type": "stream",
          "name": "stdout",
          "text": [
            "min samples split \t n estimators \t train accuracy \t vali accuracy \t oob accuracy\n",
            "2 \t\t\t 2 \t\t 0.9223333333333333 \t\t 0.784 \t\t 0.6578666666666667\n",
            "2 \t\t\t 12 \t\t 0.9972666666666666 \t\t 0.9204 \t\t 0.8848\n",
            "2 \t\t\t 23 \t\t 0.999 \t\t 0.9186 \t\t 0.9100666666666667\n",
            "2 \t\t\t 34 \t\t 0.9996 \t\t 0.9202 \t\t 0.9138\n",
            "2 \t\t\t 45 \t\t 0.9999333333333333 \t\t 0.9168 \t\t 0.9153333333333333\n",
            "2 \t\t\t 56 \t\t 0.9999333333333333 \t\t 0.9178 \t\t 0.9163333333333333\n",
            "2 \t\t\t 67 \t\t 1.0 \t\t 0.9186 \t\t 0.9165333333333333\n",
            "2 \t\t\t 78 \t\t 1.0 \t\t 0.9196 \t\t 0.9162\n",
            "2 \t\t\t 89 \t\t 1.0 \t\t 0.9192 \t\t 0.9178666666666667\n",
            "2 \t\t\t 100 \t\t 1.0 \t\t 0.9204 \t\t 0.9152666666666667\n",
            "\n",
            "10000 \t\t\t 2 \t\t 0.49906666666666666 \t\t 0.5044 \t\t 0.44866666666666666\n",
            "10000 \t\t\t 12 \t\t 0.49906666666666666 \t\t 0.5044 \t\t 0.49933333333333335\n",
            "10000 \t\t\t 23 \t\t 0.49906666666666666 \t\t 0.5044 \t\t 0.4991333333333333\n",
            "10000 \t\t\t 34 \t\t 0.49906666666666666 \t\t 0.5044 \t\t 0.49906666666666666\n",
            "10000 \t\t\t 45 \t\t 0.49906666666666666 \t\t 0.5044 \t\t 0.49906666666666666\n",
            "10000 \t\t\t 56 \t\t 0.49906666666666666 \t\t 0.5044 \t\t 0.49906666666666666\n",
            "10000 \t\t\t 67 \t\t 0.49906666666666666 \t\t 0.5044 \t\t 0.49906666666666666\n",
            "10000 \t\t\t 78 \t\t 0.49906666666666666 \t\t 0.5044 \t\t 0.49906666666666666\n",
            "10000 \t\t\t 89 \t\t 0.49906666666666666 \t\t 0.5044 \t\t 0.49906666666666666\n",
            "10000 \t\t\t 100 \t\t 0.49906666666666666 \t\t 0.5044 \t\t 0.49906666666666666\n",
            "\n",
            "Best accuracy: 0.9204 relative to best n estimators: 12 and best min samples: 2\n",
            "\n",
            "Accuracy of test set: 0.9136\n"
          ]
        },
        {
          "output_type": "execute_result",
          "data": {
            "text/plain": [
              "<matplotlib.legend.Legend at 0x7f2345a14d30>"
            ]
          },
          "metadata": {},
          "execution_count": 12
        },
        {
          "output_type": "display_data",
          "data": {
            "text/plain": [
              "<Figure size 640x480 with 1 Axes>"
            ],
            "image/png": "[encoded data removed]"
          },
          "metadata": {}
        }
      ]
    },
    {
      "cell_type": "code",
      "source": [
        "#Compare\n",
        "from sklearn.metrics import confusion_matrix\n",
        "\n",
        "print(\"Accuracy on test set (DTC): {}\".format(test_score_tree))\n",
        "print(\"Accuracy on test set (RFC): {}\".format(test_score_forest))\n",
        "print()\n",
        "\n",
        "print(\"Confusion matrix DTC\")\n",
        "display(confusion_matrix(y_test, prediction_tree, normalize = 'true'))\n",
        "print()\n",
        "\n",
        "print(\"Confusion matrix RTF\")\n",
        "display(confusion_matrix(y_test, prediction_forest, normalize = 'true'))\n",
        "\n"
      ],
      "metadata": {
        "colab": {
          "base_uri": "https://localhost:8080/",
          "height": 236
        },
        "id": "XXn6waiwIbRL",
        "outputId": "216dbac0-ffcb-4a65-8e7f-832eebe0e00f"
      },
      "execution_count": 13,
      "outputs": [
        {
          "output_type": "stream",
          "name": "stdout",
          "text": [
            "Accuracy on test set (DTC): 0.8208\n",
            "Accuracy on test set (RFC): 0.9136\n",
            "\n",
            "Confusion matrix DTC\n"
          ]
        },
        {
          "output_type": "display_data",
          "data": {
            "text/plain": [
              "array([[0.93356643, 0.05294705, 0.01348651],\n",
              "       [0.39272031, 0.28544061, 0.32183908],\n",
              "       [0.04200323, 0.11550889, 0.84248788]])"
            ]
          },
          "metadata": {}
        },
        {
          "output_type": "stream",
          "name": "stdout",
          "text": [
            "\n",
            "Confusion matrix RTF\n"
          ]
        },
        {
          "output_type": "display_data",
          "data": {
            "text/plain": [
              "array([[0.999001  , 0.000999  , 0.        ],\n",
              "       [0.4348659 , 0.19157088, 0.37356322],\n",
              "       [0.        , 0.00323102, 0.99676898]])"
            ]
          },
          "metadata": {}
        }
      ]
    },
    {
      "cell_type": "code",
      "metadata": {
        "colab": {
          "base_uri": "https://localhost:8080/"
        },
        "id": "ud-1rfDVfCFP",
        "outputId": "4d2ab47a-a91d-4152-9c50-7afedfe1ed65"
      },
      "source": [
        "#@title Soluzione 2.1\n",
        "##Dividiamo il campione per il training\n",
        "from sklearn.model_selection import train_test_split\n",
        "train_to_rest_ratio=0.6 # training sample 60%\n",
        "vali_to_test_ratio=0.5  #  validation and test sets: 50%-50% of remianining 40%\n",
        "\n",
        "# selezioniamo random data points dai campioni ordinati e disordinati per cerare training e test\n",
        "X_train,X,Y_train,Y=train_test_split(data,labels,train_size=train_to_rest_ratio, shuffle=True, random_state=rnd_ini)\n",
        "X_vali,X_test,Y_vali,Y_test=train_test_split(X,Y,train_size=vali_to_test_ratio, shuffle=True, random_state=rnd_ini)\n",
        "\n",
        "print('X_train shape:', X_train.shape)\n",
        "print('Y_train shape:', Y_train.shape)\n",
        "print('X_vali shape:', X_vali.shape)\n",
        "print('Y_vali shape:', Y_vali.shape)\n",
        "print('X_test shape:', X_test.shape)\n",
        "print('Y_test shape:', Y_test.shape)"
      ],
      "execution_count": null,
      "outputs": [
        {
          "output_type": "stream",
          "name": "stdout",
          "text": [
            "X_train shape: (15000, 784)\n",
            "Y_train shape: (15000,)\n",
            "X_vali shape: (5000, 784)\n",
            "Y_vali shape: (5000,)\n",
            "X_test shape: (5000, 784)\n",
            "Y_test shape: (5000,)\n"
          ]
        }
      ]
    },
    {
      "cell_type": "code",
      "metadata": {
        "colab": {
          "base_uri": "https://localhost:8080/",
          "height": 570
        },
        "id": "gFIwlSnBg2V0",
        "outputId": "020e5dcd-67d9-452d-a4d5-d446af90bbe8"
      },
      "source": [
        "#@title Soluzione 2 DecisionTree\n",
        "# Scikit-learn DecisionTreeClassifier\n",
        "from sklearn.tree import DecisionTreeClassifier\n",
        "import time\n",
        "import warnings\n",
        "import math\n",
        "#disabilitiamo messaggi di warning \n",
        "warnings.filterwarnings(\"ignore\")\n",
        "\n",
        "max_depth_range = np.linspace(1,20,10, dtype='int')\n",
        "\n",
        "accuracy = []\n",
        "val_accuracy = []\n",
        "print('max_depth acc val_acc')\n",
        "for max_depth in max_depth_range:\n",
        "    DT_clf = DecisionTreeClassifier(max_depth=max_depth)\n",
        "    DT_clf.fit(X_train, Y_train)\n",
        "    acc = DT_clf.score(X_train, Y_train)\n",
        "    val_acc = DT_clf.score(X_vali, Y_vali)\n",
        "    accuracy.append(acc)\n",
        "    val_accuracy.append(val_acc)\n",
        "    print(max_depth, acc, val_acc)\n",
        "\n",
        "best_max_depth = max_depth_range[val_accuracy.index(max(val_accuracy))]\n",
        "print('max accuracy: ', max(val_accuracy), ' per max_depth = ', best_max_depth)\n",
        "\n",
        "DT_clf = DecisionTreeClassifier(max_depth=best_max_depth)\n",
        "DT_clf.fit(X_train, Y_train)\n",
        "test_acc = DT_clf.score(X_test, Y_test)\n",
        "print('Test accuracy: ', test_acc)\n",
        "\n",
        "\n",
        "test_pred = DT_clf.predict(X_test)\n",
        "from sklearn.metrics import confusion_matrix\n",
        "c_mat = confusion_matrix(Y_test, test_pred, normalize='true')\n",
        "print(\"Confusion Matrix:\")\n",
        "print(c_mat)\n",
        "\n",
        "plt.figure()\n",
        "plt.plot(max_depth_range,accuracy,'--b^',label='Train')\n",
        "plt.plot(max_depth_range,val_accuracy,'--r^',label='Validation')\n",
        "plt.xlabel('max_depth')\n",
        "plt.ylabel('Accuracy')\n",
        "lgd=plt.legend(bbox_to_anchor=(1.05, 1), loc=2, borderaxespad=0.)\n",
        "plt.show()"
      ],
      "execution_count": null,
      "outputs": [
        {
          "output_type": "stream",
          "name": "stdout",
          "text": [
            "max_depth acc val_acc\n",
            "1 0.49906666666666666 0.4922\n",
            "3 0.7362 0.7308\n",
            "5 0.8198 0.8138\n",
            "7 0.8514 0.8346\n",
            "9 0.8938666666666667 0.8282\n",
            "11 0.9408 0.8218\n",
            "13 0.9579333333333333 0.8262\n",
            "15 0.9686 0.8262\n",
            "17 0.9752666666666666 0.8232\n",
            "20 0.9823333333333333 0.8294\n",
            "max accuracy:  0.8346  per max_depth =  7\n",
            "Test accuracy:  0.832\n",
            "Confusion Matrix:\n",
            "[[0.9491353  0.00406918 0.04679552]\n",
            " [0.55130785 0.01408451 0.43460765]\n",
            " [0.09184076 0.00670083 0.90145842]]\n"
          ]
        },
        {
          "output_type": "display_data",
          "data": {
            "text/plain": [
              "<Figure size 432x288 with 1 Axes>"
            ],
            "image/png": "[encoded data removed]"
          },
          "metadata": {
            "needs_background": "light"
          }
        }
      ]
    },
    {
      "cell_type": "code",
      "metadata": {
        "colab": {
          "base_uri": "https://localhost:8080/"
        },
        "id": "fMTK1TazfIBY",
        "outputId": "e89e0928-39a6-490e-f851-519d86e8b4bc"
      },
      "source": [
        "#@title Soluzione RandomForest A\n",
        "# Scikit-learn Random Forest\n",
        "from sklearn.ensemble import RandomForestClassifier\n",
        "import time\n",
        "import warnings\n",
        "#disabilitiamo messaggi di warning \n",
        "warnings.filterwarnings(\"ignore\")\n",
        "\n",
        "#Valore del numero di alberi \n",
        "n_estimator_range=np.linspace(2,100,10, dtype='int')\n",
        "leaf_size_range=[2,10000]\n",
        "\n",
        "m=len(n_estimator_range)\n",
        "n=len(leaf_size_range)\n",
        "\n",
        "#Allocate Arrays for various quantities\n",
        "RFC_OOB_accuracy=np.zeros((n,m))\n",
        "RFC_train_accuracy=np.zeros((n,m))\n",
        "RFC_vali_accuracy=np.zeros((n,m))\n",
        "run_time=np.zeros((n,m))\n",
        "\n",
        "print_flag=True\n",
        "\n",
        "for i, leaf_size in enumerate(leaf_size_range):\n",
        "    # Define Random Forest Classifier\n",
        "    myRF_clf = RandomForestClassifier(\n",
        "        n_estimators=n_estimator_range[0],\n",
        "        max_depth=None, \n",
        "        min_samples_split=leaf_size, # minimum number of sample per leaf\n",
        "        oob_score=True,\n",
        "        random_state=0,\n",
        "        warm_start=True # When set to True, reuse the solution of the previous call to fit and add more estimators to the ensemble, otherwise, just fit a whole new forest.\n",
        "    )\n",
        "    for j, n_estimator in enumerate(n_estimator_range):\n",
        "        \n",
        "        print('n_estimators: %i, leaf_size: %i'%(n_estimator,leaf_size))\n",
        "        \n",
        "        start_time = time.time()\n",
        "        myRF_clf.set_params(n_estimators=n_estimator)\n",
        "        myRF_clf.fit(X_train, Y_train)\n",
        "        run_time[i,j] = time.time() - start_time\n",
        "\n",
        "    # check accuracy\n",
        "        RFC_train_accuracy[i,j]=myRF_clf.score(X_train,Y_train)\n",
        "        RFC_OOB_accuracy[i,j]=myRF_clf.oob_score_\n",
        "        RFC_vali_accuracy[i,j]=myRF_clf.score(X_vali,Y_vali)\n",
        "        if print_flag:\n",
        "            result = (run_time[i,j], RFC_train_accuracy[i,j], RFC_OOB_accuracy[i,j], RFC_vali_accuracy[i,j])\n",
        "            print('{0:<15}{1:<15}{2:<15}{3:<15}'.format(\"time (s)\",\"train score\", \"OOB estimate\",\"validation score\"))\n",
        "            print('{0:<15.4f}{1:<15.4f}{2:<15.4f}{3:<15.4f}'.format(*result))"
      ],
      "execution_count": null,
      "outputs": [
        {
          "output_type": "stream",
          "name": "stdout",
          "text": [
            "n_estimators: 2, leaf_size: 2\n",
            "time (s)       train score    OOB estimate   validation score\n",
            "0.2815         0.9178         0.6552         0.7924         \n",
            "n_estimators: 12, leaf_size: 2\n",
            "time (s)       train score    OOB estimate   validation score\n",
            "0.9919         0.9972         0.8807         0.9156         \n",
            "n_estimators: 23, leaf_size: 2\n",
            "time (s)       train score    OOB estimate   validation score\n",
            "1.0054         0.9995         0.9082         0.9150         \n",
            "n_estimators: 34, leaf_size: 2\n",
            "time (s)       train score    OOB estimate   validation score\n",
            "1.1099         0.9996         0.9125         0.9152         \n",
            "n_estimators: 45, leaf_size: 2\n",
            "time (s)       train score    OOB estimate   validation score\n",
            "1.1603         0.9999         0.9132         0.9152         \n",
            "n_estimators: 56, leaf_size: 2\n",
            "time (s)       train score    OOB estimate   validation score\n",
            "1.2424         1.0000         0.9148         0.9164         \n",
            "n_estimators: 67, leaf_size: 2\n",
            "time (s)       train score    OOB estimate   validation score\n",
            "1.3298         1.0000         0.9149         0.9170         \n",
            "n_estimators: 78, leaf_size: 2\n",
            "time (s)       train score    OOB estimate   validation score\n",
            "1.4120         1.0000         0.9155         0.9176         \n",
            "n_estimators: 89, leaf_size: 2\n",
            "time (s)       train score    OOB estimate   validation score\n",
            "1.8794         1.0000         0.9147         0.9166         \n",
            "n_estimators: 100, leaf_size: 2\n",
            "time (s)       train score    OOB estimate   validation score\n",
            "1.5496         1.0000         0.9157         0.9180         \n",
            "n_estimators: 2, leaf_size: 10000\n",
            "time (s)       train score    OOB estimate   validation score\n",
            "0.0478         0.4991         0.4577         0.4922         \n",
            "n_estimators: 12, leaf_size: 10000\n",
            "time (s)       train score    OOB estimate   validation score\n",
            "0.1236         0.4991         0.4978         0.4922         \n",
            "n_estimators: 23, leaf_size: 10000\n",
            "time (s)       train score    OOB estimate   validation score\n",
            "0.1865         0.4991         0.4990         0.4922         \n",
            "n_estimators: 34, leaf_size: 10000\n",
            "time (s)       train score    OOB estimate   validation score\n",
            "0.2466         0.4991         0.4991         0.4922         \n",
            "n_estimators: 45, leaf_size: 10000\n",
            "time (s)       train score    OOB estimate   validation score\n",
            "0.2970         0.4991         0.4991         0.4922         \n",
            "n_estimators: 56, leaf_size: 10000\n",
            "time (s)       train score    OOB estimate   validation score\n",
            "0.3557         0.4991         0.4991         0.4922         \n",
            "n_estimators: 67, leaf_size: 10000\n",
            "time (s)       train score    OOB estimate   validation score\n",
            "0.4319         0.4991         0.4991         0.4922         \n",
            "n_estimators: 78, leaf_size: 10000\n",
            "time (s)       train score    OOB estimate   validation score\n",
            "0.4771         0.4991         0.4991         0.4922         \n",
            "n_estimators: 89, leaf_size: 10000\n",
            "time (s)       train score    OOB estimate   validation score\n",
            "0.5368         0.4991         0.4991         0.4922         \n",
            "n_estimators: 100, leaf_size: 10000\n",
            "time (s)       train score    OOB estimate   validation score\n",
            "0.5933         0.4991         0.4991         0.4922         \n"
          ]
        }
      ]
    },
    {
      "cell_type": "code",
      "metadata": {
        "colab": {
          "base_uri": "https://localhost:8080/"
        },
        "cellView": "form",
        "id": "3P3dVuOUzy0H",
        "outputId": "f564317e-781c-49ee-89ac-b2e117ee56d6"
      },
      "source": [
        "#@title Soluzione RandomForest B\n",
        "best_acc = np.max(RFC_vali_accuracy)\n",
        "index_best = np.unravel_index(RFC_vali_accuracy.argmax(), RFC_vali_accuracy.shape) \n",
        "print('Best accuracy: ', best_acc, ' per n_estimators=', n_estimator_range[index_best[1]], \n",
        "      ', min_samples_split=', leaf_size_range[index_best[0]])\n",
        "\n",
        "\n",
        "myRF_clf = RandomForestClassifier(\n",
        "        n_estimators=n_estimator_range[index_best[1]],\n",
        "        max_depth=None, \n",
        "        min_samples_split=leaf_size_range[index_best[0]], \n",
        "        oob_score=True,\n",
        "        random_state=0,\n",
        "        warm_start=True \n",
        ")\n",
        "\n",
        "myRF_clf.fit(X_train, Y_train)\n",
        "test_acc = myRF_clf.score(X_test, Y_test)\n",
        "print('Test accuracy: ', test_acc)\n",
        "\n",
        "\n",
        "test_pred = myRF_clf.predict(X_test)\n",
        "from sklearn.metrics import confusion_matrix\n",
        "c_mat = confusion_matrix(Y_test, test_pred, normalize='true')\n",
        "print(\"Confusion Matrix:\")\n",
        "print(c_mat)"
      ],
      "execution_count": null,
      "outputs": [
        {
          "output_type": "stream",
          "name": "stdout",
          "text": [
            "Best accuracy:  0.918  per n_estimators= 100 , min_samples_split= 2\n",
            "Test accuracy:  0.9192\n",
            "Confusion Matrix:\n",
            "[[9.99491353e-01 0.00000000e+00 5.08646999e-04]\n",
            " [4.56740443e-01 1.89134809e-01 3.54124748e-01]\n",
            " [0.00000000e+00 0.00000000e+00 1.00000000e+00]]\n"
          ]
        }
      ]
    },
    {
      "cell_type": "code",
      "metadata": {
        "colab": {
          "base_uri": "https://localhost:8080/",
          "height": 549
        },
        "cellView": "form",
        "id": "0MuFVM1mvQqh",
        "outputId": "07d68fe0-e931-413a-a26c-7cc48b5d0268"
      },
      "source": [
        "#@title Soluzione RandomForest C\n",
        "plt.figure()\n",
        "plt.plot(n_estimator_range,RFC_train_accuracy[1],'--b^',label='Train (bassa ramificazione)')\n",
        "plt.plot(n_estimator_range,RFC_vali_accuracy[1],'--r^',label='Validation (bassa ramificazione)')\n",
        "plt.plot(n_estimator_range,RFC_OOB_accuracy[1],'--g^',label='OOB (bassa ramificazione)')\n",
        "\n",
        "plt.plot(n_estimator_range,RFC_train_accuracy[0],'o-b',label='Train (alta ramificazione)')\n",
        "plt.plot(n_estimator_range,RFC_vali_accuracy[0],'o-r',label='Validation (alta ramificazione)')\n",
        "plt.plot(n_estimator_range,RFC_OOB_accuracy[0],'--g^',label='OOB (alta ramificazione)')\n",
        "\n",
        "plt.xlabel('$N_\\mathrm{estimators}$')\n",
        "plt.ylabel('Accuracy')\n",
        "lgd=plt.legend(bbox_to_anchor=(1.05, 1), loc=2, borderaxespad=0.)\n",
        "plt.show()\n",
        "\n",
        "plt.plot(n_estimator_range, run_time[1], '--k^',label='Bassa ramificazione')\n",
        "plt.plot(n_estimator_range, run_time[0], 'o-k',label='Alta ramificazione')\n",
        "plt.xlabel('$N_\\mathrm{estimators}$')\n",
        "plt.ylabel('Run time (s)')\n",
        "plt.legend(loc=2)\n",
        "plt.show()"
      ],
      "execution_count": null,
      "outputs": [
        {
          "output_type": "display_data",
          "data": {
            "text/plain": [
              "<Figure size 432x288 with 1 Axes>"
            ],
            "image/png": "[encoded data removed]"
          },
          "metadata": {
            "needs_background": "light"
          }
        },
        {
          "output_type": "display_data",
          "data": {
            "text/plain": [
              "<Figure size 432x288 with 1 Axes>"
            ],
            "image/png": "[encoded data removed]"
          },
          "metadata": {
            "needs_background": "light"
          }
        }
      ]
    },
    {
      "cell_type": "markdown",
      "metadata": {
        "id": "E1i_mYujV3eD"
      },
      "source": [
        "**Parte 3:**\n",
        "\n",
        "Allenare un regressore RandomForest (RandomForestRegressor) al task di predire la magnetizzazione media $\\hat{M}$ a partire da una configurazione di spin di temperatura nota $T$. \n",
        "\n",
        "1.   costruire il tensore magnetizzazione media $M$ per ogni elemento dei campioni X_test, X_vali e X_train:\n",
        "\n",
        "\n",
        "> $M = \\frac{1}{N}\\sum_i^N S_i$\n",
        "\n",
        "2.   implementare e allenare il regressore sul training set, usando come loss: MSE\n",
        "3.   ottimizzare la dimensione della foresta (n_estimators) sul validation set\n",
        "4.   stimare prestazioni (MAE) sul test set e graficare sul test set lo scatter plot $\\hat{M}$ VS $M$ predetta, e l'istogramma di ($M-\\hat{M}$)\n",
        "5.   provare a dare una spiegazione di quanto osservato ..."
      ]
    },
    {
      "cell_type": "code",
      "metadata": {
        "id": "28qaPYUf7fBe"
      },
      "source": [
        "#code\n",
        "#Costruisco tensore magnetizzazione media M per training, validation e test set\n",
        "M_train = np.zeros(len(x_train))\n",
        "M_vali = np.zeros(len(x_vali))\n",
        "M_test = np.zeros(len(x_test)) \n",
        "\n",
        "for i in range(len(x_train)):\n",
        "  M_train[i] = 0.\n",
        "  for j in x_train[i]:\n",
        "    M_train[i] += j\n",
        "  \n",
        "  M_train[i] = M_train[i]/len(x_train[i])\n",
        "\n",
        "for i in range(len(x_vali)):\n",
        "  M_vali[i] = 0.\n",
        "  for j in x_vali[i]:\n",
        "    M_vali[i] += j\n",
        "  \n",
        "  M_vali[i] = M_vali[i]/len(x_vali[i])\n",
        "\n",
        "for i in range(len(x_test)):\n",
        "  M_test[i] = 0.\n",
        "  for j in x_test[i]:\n",
        "    M_test[i] += j\n",
        "  \n",
        "  M_test[i] = M_test[i]/len(x_test[i])\n",
        "\n"
      ],
      "execution_count": 40,
      "outputs": []
    },
    {
      "cell_type": "code",
      "source": [
        "M_test"
      ],
      "metadata": {
        "colab": {
          "base_uri": "https://localhost:8080/"
        },
        "id": "r8BybCllIWww",
        "outputId": "484d2864-9d5e-4121-cab1-a94dc887b899"
      },
      "execution_count": 44,
      "outputs": [
        {
          "output_type": "execute_result",
          "data": {
            "text/plain": [
              "array([-0.06632653, -1.        ,  1.        , ..., -0.97193878,\n",
              "       -0.25510204,  0.20408163])"
            ]
          },
          "metadata": {},
          "execution_count": 44
        }
      ]
    },
    {
      "cell_type": "code",
      "source": [
        "#RANDOM FOREST REGRESSOR\n",
        "from sklearn.ensemble import RandomForestRegressor\n",
        "from sklearn.metrics import mean_squared_error\n",
        "from sklearn.metrics import mean_absolute_error\n",
        "import warnings\n",
        "\n",
        "#Disable warning messages\n",
        "warnings.filterwarnings(\"ignore\")\n",
        "\n",
        "MSE_score = np.ones(2*10)\n",
        "MSE_score = np.reshape(MSE_score, (2, 10))\n",
        "OOB_score = np.zeros(2*10)\n",
        "OOB_score = np.reshape(OOB_score, (2, 10))\n",
        "best_MSE = 1.\n",
        "best_min_samples = 0\n",
        "best_estimator = 0\n",
        "estimators = np.linspace(2, 100, 10, dtype = int)\n",
        "\n",
        "print(\"min samples split \\t n estimators \\t MSE (vali) \\t oob accuracy\")\n",
        "#External loop on min_samples_split\n",
        "min_samples = np.array([2, 10000])\n",
        "\n",
        "#REGRESSOR\n",
        "clf = RandomForestRegressor(\n",
        "    n_estimators=100,\n",
        "    min_samples_split=2, # minimum number of sample per leaf\n",
        "    criterion='squared_error', #MSE loss (se si vuole usare la MAE: 'absolute_error')\n",
        "    random_state=0\n",
        ")\n",
        "\n",
        "clf.fit(x_train, M_train)\n",
        "train_score = clf.score(x_train, M_train)\n",
        "vali_score = clf.score(x_vali, M_vali)\n",
        "test_score = clf.score(x_test, M_test)\n",
        "\n",
        "prediction = clf.predict(x_test)\n",
        "\n",
        "print(\"Acc train: {}\".format(train_score))\n",
        "print(\"Acc vali: {}\".format(vali_score))\n",
        "print(\"Acc train: {}\".format(test_score))\n",
        "                      \n",
        "\n",
        "print(\"MAE test: {}\".format(mean_absolute_error(M_test, prediction)))"
      ],
      "metadata": {
        "colab": {
          "base_uri": "https://localhost:8080/"
        },
        "id": "gY4Dh8XZ-tyL",
        "outputId": "b63dbad3-cd78-4b49-d894-656d5dc79ec0"
      },
      "execution_count": 47,
      "outputs": [
        {
          "output_type": "stream",
          "name": "stdout",
          "text": [
            "min samples split \t n estimators \t MSE (vali) \t oob accuracy\n",
            "Acc train: 0.998979716281188\n",
            "Acc vali: 0.9942922115219435\n",
            "Acc train: 0.9938951604788787\n",
            "MAE test: 0.030362964285714236\n"
          ]
        }
      ]
    },
    {
      "cell_type": "code",
      "source": [
        "= #Accuracy on test set with optimal parameters\n",
        "clf = RandomForestRegressor(n_estimators = best_estimator, min_samples_split = best_min_samples)\n",
        "clf.fit(x_train, M_train)\n",
        "M_predict_test = clf.predict(x_test)\n",
        "MAE_test = mean_absolute_error(M_test, M_predict_test)\n",
        "print(\"MAE of test set: {}\".format(MAE_test))"
      ],
      "metadata": {
        "colab": {
          "base_uri": "https://localhost:8080/"
        },
        "id": "4igcUera26v2",
        "outputId": "2bfcb736-4778-4392-cc4d-6084b43630d4"
      },
      "execution_count": 27,
      "outputs": [
        {
          "output_type": "stream",
          "name": "stdout",
          "text": [
            "MAE of test set: 0.002137921768707484\n"
          ]
        }
      ]
    },
    {
      "cell_type": "code",
      "source": [
        "truth = (abs(M_test - M_predict_test) < 0.01)  \n",
        "truth[truth == True], truth"
      ],
      "metadata": {
        "colab": {
          "base_uri": "https://localhost:8080/"
        },
        "id": "putBl2gQH1ia",
        "outputId": "c0b28287-247b-4fda-f0c3-22a8a74df032"
      },
      "execution_count": 37,
      "outputs": [
        {
          "output_type": "execute_result",
          "data": {
            "text/plain": [
              "(array([ True,  True,  True, ...,  True,  True,  True]),\n",
              " array([ True,  True,  True, ...,  True,  True,  True]))"
            ]
          },
          "metadata": {},
          "execution_count": 37
        }
      ]
    },
    {
      "cell_type": "code",
      "source": [
        "M_predict_test, M_test"
      ],
      "metadata": {
        "colab": {
          "base_uri": "https://localhost:8080/"
        },
        "id": "eZvL-pQ1IQh7",
        "outputId": "7785dcf3-7733-4613-ca00-ef291677fc32"
      },
      "execution_count": 45,
      "outputs": [
        {
          "output_type": "execute_result",
          "data": {
            "text/plain": [
              "(array([-0.00213792, -0.00213792, -0.00213792, ..., -0.00213792,\n",
              "        -0.00213792, -0.00213792]),\n",
              " array([-0.06632653, -1.        ,  1.        , ..., -0.97193878,\n",
              "        -0.25510204,  0.20408163]))"
            ]
          },
          "metadata": {},
          "execution_count": 45
        }
      ]
    },
    {
      "cell_type": "code",
      "metadata": {
        "colab": {
          "base_uri": "https://localhost:8080/",
          "height": 403
        },
        "id": "Eq81bLnp7fMF",
        "outputId": "4f8b8616-3319-47cd-d21a-fb3e6cba856c"
      },
      "source": [
        "#@title Soluzione 3\n",
        "# Scikit-learn Random Forest Regressor\n",
        "\n",
        "from sklearn.model_selection import train_test_split\n",
        "train_to_rest_ratio=0.6 # training sample 60%\n",
        "vali_to_test_ratio=0.5  #  validation and test sets: 50%-50% of remianining 40%\n",
        "\n",
        "# selezioniamo random data points dai campioni ordinati e disordinati per cerare training e test\n",
        "X_train,X,Y_train,Y=train_test_split(data,temp,train_size=train_to_rest_ratio, shuffle=True, random_state=rnd_ini)\n",
        "X_vali,X_test,Y_vali,Y_test=train_test_split(X,Y,train_size=vali_to_test_ratio, shuffle=True, random_state=rnd_ini)\n",
        "\n",
        "\n",
        "#calcolo magenetizzazione media\n",
        "M_train = np.sum(X_train, axis=1)/X_train.shape[1]\n",
        "M_vali = np.sum(X_vali, axis=1)/X_train.shape[1]\n",
        "M_test = np.sum(X_test, axis=1)/X_train.shape[1]\n",
        "\n",
        "from sklearn.ensemble import RandomForestRegressor\n",
        "from sklearn.metrics import mean_absolute_error\n",
        "\n",
        "import time\n",
        "import warnings\n",
        "#disabilitiamo messaggi di warning \n",
        "warnings.filterwarnings(\"ignore\")\n",
        "\n",
        "myRF_reg = RandomForestRegressor(\n",
        "    n_estimators=100,\n",
        "    min_samples_split=2, # minimum number of sample per leaf\n",
        "    criterion='squared_error', #MSE loss (se si vuole usare la MAE: 'absolute_error')\n",
        "    random_state=0\n",
        ")\n",
        "\n",
        "myRF_reg.fit(X_train, M_train)\n",
        "score = myRF_reg.score(X_train, M_train)\n",
        "val_score = myRF_reg.score(X_vali, M_vali)\n",
        "test_score = myRF_reg.score(X_test, M_test)\n",
        "                              \n",
        "print('coeff. of determination R^2 score (train/vali/test): ',score,val_score,test_score)\n",
        "\n",
        "pred = myRF_reg.predict(X_test)\n",
        "mae = mean_absolute_error(M_test, pred)\n",
        "print('MAE test: ',mae)\n",
        "\n",
        "plt.figure(figsize=(15,5))\n",
        "plt.subplot(1,3,1)\n",
        "plt.scatter(Y_test, M_test)\n",
        "plt.xlabel('T')\n",
        "plt.ylabel('average Magnetization M')\n",
        "\n",
        "plt.subplot(1,3,2)\n",
        "plt.scatter(pred, M_test, s=0.1)\n",
        "plt.plot([-1,1],[-1,1], color='black', linewidth=1, linestyle='dashed')\n",
        "plt.xlabel('$\\hat{M}$')\n",
        "plt.ylabel('$M$')\n",
        "\n",
        "plt.subplot(1,3,3)\n",
        "plt.hist(M_test-pred, bins=50)\n",
        "plt.xlabel('$M-\\hat{M}$')\n",
        "plt.tight_layout()"
      ],
      "execution_count": null,
      "outputs": [
        {
          "output_type": "stream",
          "name": "stdout",
          "text": [
            "coeff. of determination R^2 score (train/vali/test):  0.998979716281188 0.9942330520774397 0.9939501653673323\n",
            "MAE test:  0.029935102040816286\n"
          ]
        },
        {
          "output_type": "display_data",
          "data": {
            "text/plain": [
              "<Figure size 1080x360 with 3 Axes>"
            ],
            "image/png": "[encoded data removed]"
          },
          "metadata": {
            "needs_background": "light"
          }
        }
      ]
    },
    {
      "cell_type": "markdown",
      "metadata": {
        "collapsed": true,
        "id": "1nsF8Q9CsBSO"
      },
      "source": [
        "**Per casa**\n",
        "\n",
        "* provate a implementare una k-fold (con k=5) validation per l'ottimizzazione dei parametri della RandomForest e verificate se vi sono differenze rispetto all'uso del validation set o di OOB (OOB tende a dare delle stime molto pessimistiche).\n",
        "    \n",
        "NOTA: per imparare ad implementare una k-fold validation in scikit-learn guardate a questo [tutorial](https://scikit-learn.org/stable/modules/cross_validation.html)\n",
        "\n",
        "\n",
        "* provare a implementare il punto 2 (classificatore) usando l'algoritmo di gradient boosting xGBoost"
      ]
    },
    {
      "cell_type": "code",
      "source": [
        "Y_train"
      ],
      "metadata": {
        "colab": {
          "base_uri": "https://localhost:8080/"
        },
        "id": "KIaNcQRAe83x",
        "outputId": "5e074f08-c1ba-45b5-a0f7-942311472fc1"
      },
      "execution_count": null,
      "outputs": [
        {
          "output_type": "execute_result",
          "data": {
            "text/plain": [
              "array([0., 2., 2., ..., 2., 0., 0.])"
            ]
          },
          "metadata": {},
          "execution_count": 21
        }
      ]
    },
    {
      "cell_type": "code",
      "source": [
        "#@title Esempio implementazione con xGBoost\n",
        "\n",
        "import xgboost as xgb\n",
        "\n",
        "X_train,X,Y_train,Y=train_test_split(data,labels,train_size=train_to_rest_ratio, shuffle=True, random_state=rnd_ini)\n",
        "X_vali,X_test,Y_vali,Y_test=train_test_split(X,Y,train_size=vali_to_test_ratio, shuffle=True, random_state=rnd_ini)\n",
        "\n",
        "# parametri del modello (vedere: https://xgboost.readthedocs.io/en/stable/python/python_api.html e\n",
        "# https://xgboost.readthedocs.io/en/stable/parameter.html)\n",
        "param_dist = {'objective':'multi:softmax', 'n_estimators':200}\n",
        "\n",
        "# modello xGBoost classifier\n",
        "xgb_model = xgb.XGBClassifier(**param_dist)\n",
        "\n",
        "xgb_model.fit(X_train, Y_train,\n",
        "              eval_set=[(X_train, Y_train), (X_test, Y_test)],\n",
        "              eval_metric=['auc'], #area under the roc curve\n",
        "              verbose=True)\n",
        "\n",
        "test_pred = xgb_model.predict(X_test)\n",
        "accuracy = xgb_model.score(X_test, Y_test)\n",
        "\n",
        "print(\"Test Accuracy:\")\n",
        "print(accuracy)\n",
        "print()\n",
        "\n",
        "from sklearn.metrics import confusion_matrix\n",
        "c_mat = confusion_matrix(Y_test, test_pred, normalize='true')\n",
        "print(\"Confusion Matrix:\")\n",
        "print(c_mat)\n",
        "\n",
        "\n"
      ],
      "metadata": {
        "colab": {
          "base_uri": "https://localhost:8080/"
        },
        "id": "IzlAq3cjFyot",
        "outputId": "1f8ede18-2b08-4587-97d4-728b6cb2ebfc"
      },
      "execution_count": null,
      "outputs": [
        {
          "output_type": "stream",
          "name": "stdout",
          "text": [
            "[0]\tvalidation_0-auc:0.94250\tvalidation_1-auc:0.92714\n",
            "[1]\tvalidation_0-auc:0.96534\tvalidation_1-auc:0.94933\n",
            "[2]\tvalidation_0-auc:0.97626\tvalidation_1-auc:0.95967\n",
            "[3]\tvalidation_0-auc:0.98502\tvalidation_1-auc:0.96852\n",
            "[4]\tvalidation_0-auc:0.98999\tvalidation_1-auc:0.97419\n",
            "[5]\tvalidation_0-auc:0.99286\tvalidation_1-auc:0.97795\n",
            "[6]\tvalidation_0-auc:0.99456\tvalidation_1-auc:0.98018\n",
            "[7]\tvalidation_0-auc:0.99590\tvalidation_1-auc:0.98216\n",
            "[8]\tvalidation_0-auc:0.99681\tvalidation_1-auc:0.98455\n",
            "[9]\tvalidation_0-auc:0.99752\tvalidation_1-auc:0.98620\n",
            "[10]\tvalidation_0-auc:0.99795\tvalidation_1-auc:0.98728\n",
            "[11]\tvalidation_0-auc:0.99833\tvalidation_1-auc:0.98833\n",
            "[12]\tvalidation_0-auc:0.99869\tvalidation_1-auc:0.98892\n",
            "[13]\tvalidation_0-auc:0.99887\tvalidation_1-auc:0.98974\n",
            "[14]\tvalidation_0-auc:0.99906\tvalidation_1-auc:0.99044\n",
            "[15]\tvalidation_0-auc:0.99921\tvalidation_1-auc:0.99111\n",
            "[16]\tvalidation_0-auc:0.99930\tvalidation_1-auc:0.99146\n",
            "[17]\tvalidation_0-auc:0.99939\tvalidation_1-auc:0.99137\n",
            "[18]\tvalidation_0-auc:0.99946\tvalidation_1-auc:0.99164\n",
            "[19]\tvalidation_0-auc:0.99954\tvalidation_1-auc:0.99199\n",
            "[20]\tvalidation_0-auc:0.99958\tvalidation_1-auc:0.99231\n",
            "[21]\tvalidation_0-auc:0.99964\tvalidation_1-auc:0.99259\n",
            "[22]\tvalidation_0-auc:0.99969\tvalidation_1-auc:0.99278\n",
            "[23]\tvalidation_0-auc:0.99972\tvalidation_1-auc:0.99305\n",
            "[24]\tvalidation_0-auc:0.99977\tvalidation_1-auc:0.99310\n",
            "[25]\tvalidation_0-auc:0.99979\tvalidation_1-auc:0.99311\n",
            "[26]\tvalidation_0-auc:0.99982\tvalidation_1-auc:0.99309\n",
            "[27]\tvalidation_0-auc:0.99985\tvalidation_1-auc:0.99318\n",
            "[28]\tvalidation_0-auc:0.99986\tvalidation_1-auc:0.99345\n",
            "[29]\tvalidation_0-auc:0.99988\tvalidation_1-auc:0.99350\n",
            "[30]\tvalidation_0-auc:0.99989\tvalidation_1-auc:0.99344\n",
            "[31]\tvalidation_0-auc:0.99991\tvalidation_1-auc:0.99364\n",
            "[32]\tvalidation_0-auc:0.99992\tvalidation_1-auc:0.99368\n",
            "[33]\tvalidation_0-auc:0.99993\tvalidation_1-auc:0.99387\n",
            "[34]\tvalidation_0-auc:0.99994\tvalidation_1-auc:0.99389\n",
            "[35]\tvalidation_0-auc:0.99995\tvalidation_1-auc:0.99393\n",
            "[36]\tvalidation_0-auc:0.99996\tvalidation_1-auc:0.99400\n",
            "[37]\tvalidation_0-auc:0.99997\tvalidation_1-auc:0.99407\n",
            "[38]\tvalidation_0-auc:0.99997\tvalidation_1-auc:0.99425\n",
            "[39]\tvalidation_0-auc:0.99998\tvalidation_1-auc:0.99423\n",
            "[40]\tvalidation_0-auc:0.99998\tvalidation_1-auc:0.99427\n",
            "[41]\tvalidation_0-auc:0.99998\tvalidation_1-auc:0.99429\n",
            "[42]\tvalidation_0-auc:0.99999\tvalidation_1-auc:0.99430\n",
            "[43]\tvalidation_0-auc:0.99999\tvalidation_1-auc:0.99429\n",
            "[44]\tvalidation_0-auc:0.99999\tvalidation_1-auc:0.99431\n",
            "[45]\tvalidation_0-auc:0.99999\tvalidation_1-auc:0.99426\n",
            "[46]\tvalidation_0-auc:1.00000\tvalidation_1-auc:0.99430\n",
            "[47]\tvalidation_0-auc:1.00000\tvalidation_1-auc:0.99428\n",
            "[48]\tvalidation_0-auc:1.00000\tvalidation_1-auc:0.99429\n",
            "[49]\tvalidation_0-auc:1.00000\tvalidation_1-auc:0.99426\n",
            "[50]\tvalidation_0-auc:1.00000\tvalidation_1-auc:0.99427\n",
            "[51]\tvalidation_0-auc:1.00000\tvalidation_1-auc:0.99422\n",
            "[52]\tvalidation_0-auc:1.00000\tvalidation_1-auc:0.99424\n",
            "[53]\tvalidation_0-auc:1.00000\tvalidation_1-auc:0.99424\n",
            "[54]\tvalidation_0-auc:1.00000\tvalidation_1-auc:0.99428\n",
            "[55]\tvalidation_0-auc:1.00000\tvalidation_1-auc:0.99431\n",
            "[56]\tvalidation_0-auc:1.00000\tvalidation_1-auc:0.99434\n",
            "[57]\tvalidation_0-auc:1.00000\tvalidation_1-auc:0.99432\n",
            "[58]\tvalidation_0-auc:1.00000\tvalidation_1-auc:0.99432\n",
            "[59]\tvalidation_0-auc:1.00000\tvalidation_1-auc:0.99431\n",
            "[60]\tvalidation_0-auc:1.00000\tvalidation_1-auc:0.99431\n",
            "[61]\tvalidation_0-auc:1.00000\tvalidation_1-auc:0.99431\n",
            "[62]\tvalidation_0-auc:1.00000\tvalidation_1-auc:0.99425\n",
            "[63]\tvalidation_0-auc:1.00000\tvalidation_1-auc:0.99429\n",
            "[64]\tvalidation_0-auc:1.00000\tvalidation_1-auc:0.99431\n",
            "[65]\tvalidation_0-auc:1.00000\tvalidation_1-auc:0.99435\n",
            "[66]\tvalidation_0-auc:1.00000\tvalidation_1-auc:0.99433\n",
            "[67]\tvalidation_0-auc:1.00000\tvalidation_1-auc:0.99435\n",
            "[68]\tvalidation_0-auc:1.00000\tvalidation_1-auc:0.99436\n",
            "[69]\tvalidation_0-auc:1.00000\tvalidation_1-auc:0.99437\n",
            "[70]\tvalidation_0-auc:1.00000\tvalidation_1-auc:0.99444\n",
            "[71]\tvalidation_0-auc:1.00000\tvalidation_1-auc:0.99449\n",
            "[72]\tvalidation_0-auc:1.00000\tvalidation_1-auc:0.99452\n",
            "[73]\tvalidation_0-auc:1.00000\tvalidation_1-auc:0.99447\n",
            "[74]\tvalidation_0-auc:1.00000\tvalidation_1-auc:0.99450\n",
            "[75]\tvalidation_0-auc:1.00000\tvalidation_1-auc:0.99453\n",
            "[76]\tvalidation_0-auc:1.00000\tvalidation_1-auc:0.99451\n",
            "[77]\tvalidation_0-auc:1.00000\tvalidation_1-auc:0.99452\n",
            "[78]\tvalidation_0-auc:1.00000\tvalidation_1-auc:0.99449\n",
            "[79]\tvalidation_0-auc:1.00000\tvalidation_1-auc:0.99451\n",
            "[80]\tvalidation_0-auc:1.00000\tvalidation_1-auc:0.99447\n",
            "[81]\tvalidation_0-auc:1.00000\tvalidation_1-auc:0.99444\n",
            "[82]\tvalidation_0-auc:1.00000\tvalidation_1-auc:0.99445\n",
            "[83]\tvalidation_0-auc:1.00000\tvalidation_1-auc:0.99444\n",
            "[84]\tvalidation_0-auc:1.00000\tvalidation_1-auc:0.99439\n",
            "[85]\tvalidation_0-auc:1.00000\tvalidation_1-auc:0.99439\n",
            "[86]\tvalidation_0-auc:1.00000\tvalidation_1-auc:0.99439\n",
            "[87]\tvalidation_0-auc:1.00000\tvalidation_1-auc:0.99438\n",
            "[88]\tvalidation_0-auc:1.00000\tvalidation_1-auc:0.99439\n",
            "[89]\tvalidation_0-auc:1.00000\tvalidation_1-auc:0.99437\n",
            "[90]\tvalidation_0-auc:1.00000\tvalidation_1-auc:0.99436\n",
            "[91]\tvalidation_0-auc:1.00000\tvalidation_1-auc:0.99432\n",
            "[92]\tvalidation_0-auc:1.00000\tvalidation_1-auc:0.99429\n",
            "[93]\tvalidation_0-auc:1.00000\tvalidation_1-auc:0.99430\n",
            "[94]\tvalidation_0-auc:1.00000\tvalidation_1-auc:0.99430\n",
            "[95]\tvalidation_0-auc:1.00000\tvalidation_1-auc:0.99428\n",
            "[96]\tvalidation_0-auc:1.00000\tvalidation_1-auc:0.99429\n",
            "[97]\tvalidation_0-auc:1.00000\tvalidation_1-auc:0.99431\n",
            "[98]\tvalidation_0-auc:1.00000\tvalidation_1-auc:0.99429\n",
            "[99]\tvalidation_0-auc:1.00000\tvalidation_1-auc:0.99431\n",
            "[100]\tvalidation_0-auc:1.00000\tvalidation_1-auc:0.99433\n",
            "[101]\tvalidation_0-auc:1.00000\tvalidation_1-auc:0.99435\n",
            "[102]\tvalidation_0-auc:1.00000\tvalidation_1-auc:0.99435\n",
            "[103]\tvalidation_0-auc:1.00000\tvalidation_1-auc:0.99436\n",
            "[104]\tvalidation_0-auc:1.00000\tvalidation_1-auc:0.99436\n",
            "[105]\tvalidation_0-auc:1.00000\tvalidation_1-auc:0.99435\n",
            "[106]\tvalidation_0-auc:1.00000\tvalidation_1-auc:0.99437\n",
            "[107]\tvalidation_0-auc:1.00000\tvalidation_1-auc:0.99435\n",
            "[108]\tvalidation_0-auc:1.00000\tvalidation_1-auc:0.99438\n",
            "[109]\tvalidation_0-auc:1.00000\tvalidation_1-auc:0.99439\n",
            "[110]\tvalidation_0-auc:1.00000\tvalidation_1-auc:0.99441\n",
            "[111]\tvalidation_0-auc:1.00000\tvalidation_1-auc:0.99438\n",
            "[112]\tvalidation_0-auc:1.00000\tvalidation_1-auc:0.99440\n",
            "[113]\tvalidation_0-auc:1.00000\tvalidation_1-auc:0.99441\n",
            "[114]\tvalidation_0-auc:1.00000\tvalidation_1-auc:0.99439\n",
            "[115]\tvalidation_0-auc:1.00000\tvalidation_1-auc:0.99439\n",
            "[116]\tvalidation_0-auc:1.00000\tvalidation_1-auc:0.99439\n",
            "[117]\tvalidation_0-auc:1.00000\tvalidation_1-auc:0.99444\n",
            "[118]\tvalidation_0-auc:1.00000\tvalidation_1-auc:0.99444\n",
            "[119]\tvalidation_0-auc:1.00000\tvalidation_1-auc:0.99445\n",
            "[120]\tvalidation_0-auc:1.00000\tvalidation_1-auc:0.99447\n",
            "[121]\tvalidation_0-auc:1.00000\tvalidation_1-auc:0.99448\n",
            "[122]\tvalidation_0-auc:1.00000\tvalidation_1-auc:0.99448\n",
            "[123]\tvalidation_0-auc:1.00000\tvalidation_1-auc:0.99450\n",
            "[124]\tvalidation_0-auc:1.00000\tvalidation_1-auc:0.99453\n",
            "[125]\tvalidation_0-auc:1.00000\tvalidation_1-auc:0.99452\n",
            "[126]\tvalidation_0-auc:1.00000\tvalidation_1-auc:0.99453\n",
            "[127]\tvalidation_0-auc:1.00000\tvalidation_1-auc:0.99458\n",
            "[128]\tvalidation_0-auc:1.00000\tvalidation_1-auc:0.99459\n",
            "[129]\tvalidation_0-auc:1.00000\tvalidation_1-auc:0.99459\n",
            "[130]\tvalidation_0-auc:1.00000\tvalidation_1-auc:0.99457\n",
            "[131]\tvalidation_0-auc:1.00000\tvalidation_1-auc:0.99457\n",
            "[132]\tvalidation_0-auc:1.00000\tvalidation_1-auc:0.99457\n",
            "[133]\tvalidation_0-auc:1.00000\tvalidation_1-auc:0.99457\n",
            "[134]\tvalidation_0-auc:1.00000\tvalidation_1-auc:0.99456\n",
            "[135]\tvalidation_0-auc:1.00000\tvalidation_1-auc:0.99456\n",
            "[136]\tvalidation_0-auc:1.00000\tvalidation_1-auc:0.99457\n",
            "[137]\tvalidation_0-auc:1.00000\tvalidation_1-auc:0.99455\n",
            "[138]\tvalidation_0-auc:1.00000\tvalidation_1-auc:0.99457\n",
            "[139]\tvalidation_0-auc:1.00000\tvalidation_1-auc:0.99458\n",
            "[140]\tvalidation_0-auc:1.00000\tvalidation_1-auc:0.99456\n",
            "[141]\tvalidation_0-auc:1.00000\tvalidation_1-auc:0.99454\n",
            "[142]\tvalidation_0-auc:1.00000\tvalidation_1-auc:0.99454\n",
            "[143]\tvalidation_0-auc:1.00000\tvalidation_1-auc:0.99454\n",
            "[144]\tvalidation_0-auc:1.00000\tvalidation_1-auc:0.99457\n",
            "[145]\tvalidation_0-auc:1.00000\tvalidation_1-auc:0.99455\n",
            "[146]\tvalidation_0-auc:1.00000\tvalidation_1-auc:0.99454\n",
            "[147]\tvalidation_0-auc:1.00000\tvalidation_1-auc:0.99454\n",
            "[148]\tvalidation_0-auc:1.00000\tvalidation_1-auc:0.99456\n",
            "[149]\tvalidation_0-auc:1.00000\tvalidation_1-auc:0.99455\n",
            "[150]\tvalidation_0-auc:1.00000\tvalidation_1-auc:0.99456\n",
            "[151]\tvalidation_0-auc:1.00000\tvalidation_1-auc:0.99455\n",
            "[152]\tvalidation_0-auc:1.00000\tvalidation_1-auc:0.99457\n",
            "[153]\tvalidation_0-auc:1.00000\tvalidation_1-auc:0.99455\n",
            "[154]\tvalidation_0-auc:1.00000\tvalidation_1-auc:0.99459\n",
            "[155]\tvalidation_0-auc:1.00000\tvalidation_1-auc:0.99458\n",
            "[156]\tvalidation_0-auc:1.00000\tvalidation_1-auc:0.99459\n",
            "[157]\tvalidation_0-auc:1.00000\tvalidation_1-auc:0.99457\n",
            "[158]\tvalidation_0-auc:1.00000\tvalidation_1-auc:0.99457\n",
            "[159]\tvalidation_0-auc:1.00000\tvalidation_1-auc:0.99458\n",
            "[160]\tvalidation_0-auc:1.00000\tvalidation_1-auc:0.99459\n",
            "[161]\tvalidation_0-auc:1.00000\tvalidation_1-auc:0.99459\n",
            "[162]\tvalidation_0-auc:1.00000\tvalidation_1-auc:0.99459\n",
            "[163]\tvalidation_0-auc:1.00000\tvalidation_1-auc:0.99458\n",
            "[164]\tvalidation_0-auc:1.00000\tvalidation_1-auc:0.99460\n",
            "[165]\tvalidation_0-auc:1.00000\tvalidation_1-auc:0.99459\n",
            "[166]\tvalidation_0-auc:1.00000\tvalidation_1-auc:0.99459\n",
            "[167]\tvalidation_0-auc:1.00000\tvalidation_1-auc:0.99459\n",
            "[168]\tvalidation_0-auc:1.00000\tvalidation_1-auc:0.99459\n",
            "[169]\tvalidation_0-auc:1.00000\tvalidation_1-auc:0.99459\n",
            "[170]\tvalidation_0-auc:1.00000\tvalidation_1-auc:0.99459\n",
            "[171]\tvalidation_0-auc:1.00000\tvalidation_1-auc:0.99460\n",
            "[172]\tvalidation_0-auc:1.00000\tvalidation_1-auc:0.99459\n",
            "[173]\tvalidation_0-auc:1.00000\tvalidation_1-auc:0.99458\n",
            "[174]\tvalidation_0-auc:1.00000\tvalidation_1-auc:0.99456\n",
            "[175]\tvalidation_0-auc:1.00000\tvalidation_1-auc:0.99457\n",
            "[176]\tvalidation_0-auc:1.00000\tvalidation_1-auc:0.99460\n",
            "[177]\tvalidation_0-auc:1.00000\tvalidation_1-auc:0.99458\n",
            "[178]\tvalidation_0-auc:1.00000\tvalidation_1-auc:0.99458\n",
            "[179]\tvalidation_0-auc:1.00000\tvalidation_1-auc:0.99456\n",
            "[180]\tvalidation_0-auc:1.00000\tvalidation_1-auc:0.99456\n",
            "[181]\tvalidation_0-auc:1.00000\tvalidation_1-auc:0.99456\n",
            "[182]\tvalidation_0-auc:1.00000\tvalidation_1-auc:0.99457\n",
            "[183]\tvalidation_0-auc:1.00000\tvalidation_1-auc:0.99453\n",
            "[184]\tvalidation_0-auc:1.00000\tvalidation_1-auc:0.99456\n",
            "[185]\tvalidation_0-auc:1.00000\tvalidation_1-auc:0.99454\n",
            "[186]\tvalidation_0-auc:1.00000\tvalidation_1-auc:0.99455\n",
            "[187]\tvalidation_0-auc:1.00000\tvalidation_1-auc:0.99458\n",
            "[188]\tvalidation_0-auc:1.00000\tvalidation_1-auc:0.99458\n",
            "[189]\tvalidation_0-auc:1.00000\tvalidation_1-auc:0.99459\n",
            "[190]\tvalidation_0-auc:1.00000\tvalidation_1-auc:0.99460\n",
            "[191]\tvalidation_0-auc:1.00000\tvalidation_1-auc:0.99458\n",
            "[192]\tvalidation_0-auc:1.00000\tvalidation_1-auc:0.99457\n",
            "[193]\tvalidation_0-auc:1.00000\tvalidation_1-auc:0.99456\n",
            "[194]\tvalidation_0-auc:1.00000\tvalidation_1-auc:0.99453\n",
            "[195]\tvalidation_0-auc:1.00000\tvalidation_1-auc:0.99454\n",
            "[196]\tvalidation_0-auc:1.00000\tvalidation_1-auc:0.99455\n",
            "[197]\tvalidation_0-auc:1.00000\tvalidation_1-auc:0.99452\n",
            "[198]\tvalidation_0-auc:1.00000\tvalidation_1-auc:0.99451\n",
            "[199]\tvalidation_0-auc:1.00000\tvalidation_1-auc:0.99449\n",
            "Test Accuracy:\n",
            "0.9542\n",
            "\n",
            "Confusion Matrix:\n",
            "[[0.9837233  0.0162767  0.        ]\n",
            " [0.15291751 0.62173038 0.22535211]\n",
            " [0.         0.0035475  0.9964525 ]]\n"
          ]
        }
      ]
    }
  ]
}